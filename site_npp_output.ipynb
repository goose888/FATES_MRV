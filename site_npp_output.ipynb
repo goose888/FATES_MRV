{
 "cells": [
  {
   "cell_type": "code",
   "execution_count": 1,
   "metadata": {
    "vcdat_imports": "saved"
   },
   "outputs": [
    {
     "ename": "ModuleNotFoundError",
     "evalue": "No module named 'matplotlib'",
     "output_type": "error",
     "traceback": [
      "\u001b[0;31m---------------------------------------------------------------------------\u001b[0m",
      "\u001b[0;31mModuleNotFoundError\u001b[0m                       Traceback (most recent call last)",
      "\u001b[0;32m<ipython-input-1-47c83b5a2a64>\u001b[0m in \u001b[0;36m<module>\u001b[0;34m\u001b[0m\n\u001b[1;32m      5\u001b[0m \u001b[0;32mimport\u001b[0m \u001b[0mpandas\u001b[0m \u001b[0;32mas\u001b[0m \u001b[0mpd\u001b[0m\u001b[0;34m\u001b[0m\u001b[0;34m\u001b[0m\u001b[0m\n\u001b[1;32m      6\u001b[0m \u001b[0;32mimport\u001b[0m \u001b[0misamcalc_lib\u001b[0m \u001b[0;32mas\u001b[0m \u001b[0misam\u001b[0m\u001b[0;34m\u001b[0m\u001b[0;34m\u001b[0m\u001b[0m\n\u001b[0;32m----> 7\u001b[0;31m \u001b[0;32mimport\u001b[0m \u001b[0mmatplotlib\u001b[0m\u001b[0;34m.\u001b[0m\u001b[0mpyplot\u001b[0m \u001b[0;32mas\u001b[0m \u001b[0mplt\u001b[0m\u001b[0;34m\u001b[0m\u001b[0;34m\u001b[0m\u001b[0m\n\u001b[0m\u001b[1;32m      8\u001b[0m \u001b[0;32mfrom\u001b[0m \u001b[0mmatplotlib\u001b[0m \u001b[0;32mimport\u001b[0m \u001b[0mcolors\u001b[0m\u001b[0;34m\u001b[0m\u001b[0;34m\u001b[0m\u001b[0m\n\u001b[1;32m      9\u001b[0m \u001b[0;32mimport\u001b[0m \u001b[0mnumpy\u001b[0m\u001b[0;34m.\u001b[0m\u001b[0mma\u001b[0m \u001b[0;32mas\u001b[0m \u001b[0mma\u001b[0m\u001b[0;34m\u001b[0m\u001b[0;34m\u001b[0m\u001b[0m\n",
      "\u001b[0;31mModuleNotFoundError\u001b[0m: No module named 'matplotlib'"
     ]
    }
   ],
   "source": [
    "# Examine SBGC results\n",
    "#from netCDF4 import Dataset as NetCDFFile\n",
    "import math\n",
    "import numpy as np\n",
    "import pandas as pd\n",
    "import isamcalc_lib as isam\n",
    "import matplotlib.pyplot as plt\n",
    "from matplotlib import colors\n",
    "import numpy.ma as ma\n",
    "from scipy.interpolate import griddata\n",
    "import copy\n",
    "import matplotlib.lines as mlines\n",
    "import matplotlib.transforms as mtransforms"
   ]
  },
  {
   "cell_type": "code",
   "execution_count": 2,
   "metadata": {},
   "outputs": [
    {
     "name": "stdout",
     "output_type": "stream",
     "text": [
      "2534\n",
      "290.25\n",
      "341.25\n",
      "2182\n",
      "290.25\n",
      "nan\n",
      "231\n",
      "91.0\n",
      "22.0\n",
      "2396\n",
      "268.75\n",
      "352.5\n",
      "4181\n",
      "140.0\n",
      "449.0\n",
      "177\n",
      "91.0\n",
      "13.0\n",
      "4184\n",
      "35.0\n",
      "nan\n",
      "1232\n",
      "335.6666666666667\n",
      "383.3333333333333\n",
      "1382\n",
      "407.0\n",
      "362.0\n",
      "2427\n",
      "390.6666666666667\n",
      "nan\n",
      "2630\n",
      "170.0\n",
      "170.0\n",
      "1202\n",
      "399.5\n",
      "nan\n",
      "1216\n",
      "399.5\n",
      "nan\n",
      "4604\n",
      "276.76363636\n",
      "nan\n",
      "4166\n",
      "551.25\n",
      "321.5\n",
      "5063\n",
      "92.5\n",
      "nan\n",
      "5305\n",
      "225.0\n",
      "nan\n",
      "6458\n",
      "579.0\n",
      "nan\n",
      "4212\n",
      "nan\n",
      "nan\n",
      "7198\n",
      "nan\n",
      "nan\n",
      "5391\n",
      "nan\n",
      "nan\n"
     ]
    },
    {
     "name": "stderr",
     "output_type": "stream",
     "text": [
      "/global/common/cori_cle7/software/python/2.7-anaconda-2019.07/lib/python2.7/site-packages/ipykernel_launcher.py:35: RuntimeWarning: Mean of empty slice\n",
      "/usr/common/software/python/2.7-anaconda-2019.07/lib/python2.7/site-packages/numpy/lib/nanfunctions.py:1628: RuntimeWarning: Degrees of freedom <= 0 for slice.\n",
      "  keepdims=keepdims)\n",
      "/global/common/cori_cle7/software/python/2.7-anaconda-2019.07/lib/python2.7/site-packages/ipykernel_launcher.py:31: RuntimeWarning: Mean of empty slice\n",
      "/global/common/cori_cle7/software/python/2.7-anaconda-2019.07/lib/python2.7/site-packages/ipykernel_launcher.py:48: RuntimeWarning: Mean of empty slice\n",
      "/global/common/cori_cle7/software/python/2.7-anaconda-2019.07/lib/python2.7/site-packages/ipykernel_launcher.py:51: RuntimeWarning: Mean of empty slice\n"
     ]
    }
   ],
   "source": [
    "# Read in all the obs from SRDB dataset\n",
    "# =====================================================================\n",
    "#  Plot the simulated SOC profiles for Umakant's samples\n",
    "#  Compare with the observation also\n",
    "# =====================================================================\n",
    "fobs = \"/global/cscratch1/sd/sshu3/SBGC/site/npp_eval/srdb-data-V4_extracted_npp_rh.csv\"\n",
    "\n",
    "# Read in obs\n",
    "obs = pd.read_csv(fobs, sep=',', header=0)\n",
    "rc_number = obs.shape[0]\n",
    "\n",
    "# # print the latid and lonid of each sample for ISAM simulation usage\n",
    "# for i in np.arange(0,rc_number):\n",
    "#     loc = isam.latlon_2_idx(obs.Latitude[i],obs.Longitude[i])\n",
    "\n",
    "# Merge NPP from the study\n",
    "sid = obs.Study_number[0]\n",
    "npp_box = [obs.NPP[0]]\n",
    "npp_merged = []\n",
    "npp_stdmerged = []\n",
    "rh_box = [obs.Rh_annual[0]]\n",
    "rh_merged = []\n",
    "rh_stdmerged = []\n",
    "for index, row in obs.iterrows():\n",
    "    if(index>0):\n",
    "        if(row['Study_number'] == sid):\n",
    "            npp_box = npp_box + [row['NPP']]\n",
    "            rh_box = rh_box + [row['Rh_annual']]\n",
    "        else:\n",
    "            temp = np.asarray(npp_box)\n",
    "            npp_sid = np.nanmean(temp)\n",
    "            npp_std = np.nanstd(temp)\n",
    "            npp_box = [row['NPP']]\n",
    "            temp = np.asarray(rh_box)\n",
    "            rh_sid = np.nanmean(temp)\n",
    "            rh_std = np.nanstd(temp)\n",
    "            rh_box = [row['Rh_annual']]\n",
    "            print(sid)\n",
    "            print(npp_sid)\n",
    "            print(rh_sid)\n",
    "            sid = row['Study_number']\n",
    "            npp_merged = npp_merged + [npp_sid]\n",
    "            npp_stdmerged = npp_stdmerged + [npp_std]\n",
    "            rh_merged = rh_merged + [rh_sid]\n",
    "            rh_stdmerged = rh_stdmerged + [rh_std]\n",
    "        if(index == (rc_number-1)):\n",
    "            temp = np.asarray(npp_box)\n",
    "            npp_sid = np.nanmean(temp)\n",
    "            npp_std = np.nanstd(temp)\n",
    "            temp = np.asarray(rh_box)\n",
    "            rh_sid = np.nanmean(temp)\n",
    "            rh_std = np.nanstd(temp)\n",
    "            print(sid)\n",
    "            print(npp_sid)\n",
    "            print(rh_sid)\n",
    "            npp_merged = npp_merged + [npp_sid]\n",
    "            npp_stdmerged = npp_stdmerged + [npp_std]\n",
    "            rh_merged = rh_merged + [rh_sid]\n",
    "            rh_stdmerged = rh_stdmerged + [rh_std]\n",
    "npp_sites = np.asarray(npp_merged)\n",
    "npp_sites_std = np.asarray(npp_stdmerged)\n",
    "rh_sites = np.asarray(rh_merged)\n",
    "rh_sites_std = np.asarray(rh_stdmerged)\n",
    "\n",
    "allid = obs.Study_number.unique()"
   ]
  },
  {
   "cell_type": "code",
   "execution_count": 118,
   "metadata": {},
   "outputs": [
    {
     "data": {
      "text/plain": [
       "array([2534, 2182,  231, 2396, 4181,  177, 4184, 1232, 1382, 2427, 2630,\n",
       "       1202, 1216, 4604, 4166, 5063, 5305, 6458, 4212, 7198, 5391])"
      ]
     },
     "execution_count": 118,
     "metadata": {},
     "output_type": "execute_result"
    }
   ],
   "source": [
    "allid"
   ]
  },
  {
   "cell_type": "code",
   "execution_count": 119,
   "metadata": {},
   "outputs": [
    {
     "data": {
      "text/plain": [
       "array([341.25      ,          nan,  22.        , 352.5       ,\n",
       "       449.        ,  13.        ,          nan, 383.33333333,\n",
       "       362.        ,          nan, 170.        ,          nan,\n",
       "                nan,          nan, 321.5       ,          nan,\n",
       "                nan,          nan,          nan,          nan,\n",
       "                nan])"
      ]
     },
     "execution_count": 119,
     "metadata": {},
     "output_type": "execute_result"
    }
   ],
   "source": [
    "rh_sites"
   ]
  },
  {
   "cell_type": "code",
   "execution_count": 121,
   "metadata": {},
   "outputs": [
    {
     "data": {
      "text/plain": [
       "array([290.25      , 290.25      ,  91.        , 268.75      ,\n",
       "       140.        ,  91.        ,  35.        , 335.66666667,\n",
       "       407.        , 390.66666667, 170.        , 399.5       ,\n",
       "       399.5       , 276.76363636, 551.25      ,  92.5       ,\n",
       "       225.        , 579.        ,          nan,          nan,\n",
       "                nan])"
      ]
     },
     "execution_count": 121,
     "metadata": {},
     "output_type": "execute_result"
    }
   ],
   "source": [
    "npp_sites"
   ]
  },
  {
   "cell_type": "code",
   "execution_count": 120,
   "metadata": {},
   "outputs": [
    {
     "data": {
      "text/plain": [
       "array([ 37.66546827,          nan,   0.        ,  87.5       ,\n",
       "         0.        ,   0.        ,          nan, 165.12688724,\n",
       "         0.        ,          nan,   0.        ,          nan,\n",
       "                nan,          nan,  35.11765938,          nan,\n",
       "                nan,          nan,          nan,          nan,\n",
       "                nan])"
      ]
     },
     "execution_count": 120,
     "metadata": {},
     "output_type": "execute_result"
    }
   ],
   "source": [
    "rh_sites_std"
   ]
  },
  {
   "cell_type": "code",
   "execution_count": 122,
   "metadata": {},
   "outputs": [
    {
     "data": {
      "text/plain": [
       "array([ 58.10496967,  58.10496967,   0.        , 130.75      ,\n",
       "         0.        ,   0.        ,  29.43920289,  75.58255237,\n",
       "         0.        , 127.44759272,   0.        ,   0.        ,\n",
       "         0.        , 122.85755511,  50.05684269,  13.4       ,\n",
       "         0.        ,  59.61543424,          nan,          nan,\n",
       "                nan])"
      ]
     },
     "execution_count": 122,
     "metadata": {},
     "output_type": "execute_result"
    }
   ],
   "source": [
    "npp_sites_std"
   ]
  },
  {
   "cell_type": "code",
   "execution_count": 133,
   "metadata": {},
   "outputs": [
    {
     "name": "stdout",
     "output_type": "stream",
     "text": [
      "boreal_4166\n",
      "boreal_2396\n",
      "boreal_2534\n",
      "boreal_4604\n",
      "boreal_5305\n",
      "boreal_decid_1382\n"
     ]
    }
   ],
   "source": [
    "# Dictionary of the site for evaluation\n",
    "site =  {\n",
    "    \"boreal_2396\" : 0,\n",
    "    \"boreal_2534\" : 1,\n",
    "    \"boreal_4166\" : 2,\n",
    "    \"boreal_4604\" : 3,\n",
    "    \"boreal_5305\" : 4,\n",
    "    \"boreal_decid_1382\" : 5,\n",
    "}\n",
    "\n",
    "obs_year = [1998, 2001, 2002, 2005, 2007, 1994]\n",
    "studyid = [2396, 2534, 4166, 4604, 5305, 1382]\n",
    "\n",
    "idbox = []\n",
    "npp_box = []\n",
    "npp_obs_box = []\n",
    "npp_obsstd_box = []\n",
    "rh_box = []\n",
    "rh_obs_box = []\n",
    "rh_obsstd_box = []\n",
    "# Read in the simulated site level NPP\n",
    "for siteid, ind in site.items():\n",
    "    print(siteid)\n",
    "    path='/global/cscratch1/sd/sshu3/SBGC/site/npp_eval/'\n",
    "    fname='/site_daily_2_pft.txt'\n",
    "    obs_fname=path+siteid+fname\n",
    "    data = pd.read_csv(obs_fname,delim_whitespace=True,header=None)\n",
    "    npp_prim = data.values[:,3]\n",
    "\n",
    "    # Get the specific year for model-data comparison\n",
    "    pos = obs_year[ind] - 1861\n",
    "    npp_ext = np.sum(npp_prim[(pos*365):(pos*365+365)])\n",
    "    npp_box = npp_box + [npp_ext]\n",
    "    # Get the corresponding observation\n",
    "    for i in np.arange(0,len(npp_sites)):\n",
    "        if (allid[i] == studyid[ind]):\n",
    "            idbox = idbox + [studyid[ind]]\n",
    "            npp_obs_box = npp_obs_box + [npp_sites[i]]\n",
    "            npp_obsstd_box = npp_obsstd_box + [npp_sites_std[i]]\n",
    "            \n",
    "    # Read in the model rh\n",
    "    fname='/resp.txt'\n",
    "    obs_fname=path+siteid+fname\n",
    "    data = pd.read_csv(obs_fname,delim_whitespace=True,header=None)\n",
    "    rh_prim = data.values\n",
    "\n",
    "    rh_daily = np.zeros(((365*155),10))\n",
    "    for i in np.arange(0,np.shape(rh_prim)[0]):\n",
    "        yr = i // 52\n",
    "        if(i % 52 == 0):\n",
    "            rh_daily[(i*7+yr):(i*7+yr+8),:] = 1000.*rh_prim[i,:]/8.\n",
    "        else:\n",
    "            rh_daily[(i*7+yr):(i*7+yr+7),:] = 1000.*rh_prim[i,:]/7.\n",
    "\n",
    "    rh1m = np.zeros((np.shape(rh_daily)[0]))\n",
    "    # Calcualte the 1-m mean Respiration\n",
    "    for i in np.arange(0,np.shape(rh_daily)[0]):\n",
    "        rh1m[i] = isam.agg_1m_soil(rh_daily[i,0:8])\n",
    "    \n",
    "    # Get the specific year for model-data comparison\n",
    "    rh_ext = np.sum(rh1m[(pos*365):(pos*365+365)])\n",
    "    rh_box = rh_box + [rh_ext]\n",
    "    # Get the corresponding observation\n",
    "    for i in np.arange(0,len(rh_sites)):\n",
    "        if (allid[i] == studyid[ind]):\n",
    "            rh_obs_box = rh_obs_box + [rh_sites[i]]\n",
    "            rh_obsstd_box = rh_obsstd_box + [rh_sites_std[i]]\n",
    "            \n",
    "npp_id = np.asarray(idbox, dtype=np.intc)\n",
    "npp_mod = np.asarray(npp_box)\n",
    "npp_obs = np.asarray(npp_obs_box)\n",
    "npp_obsstd = np.asarray(npp_obsstd_box)\n",
    "\n",
    "rh_id = np.asarray(idbox, dtype=np.intc)\n",
    "rh_mod = np.asarray(rh_box)\n",
    "rh_obs = np.asarray(rh_obs_box)\n",
    "rh_obsstd = np.asarray(rh_obsstd_box)\n",
    "\n",
    "# modx = np.arange(0,365)\n",
    "# mody = rh1m[(140*365):(140*365+365)]\n",
    "# obs_2534 = obsy\n",
    "# mod_2534 = mody[obsx]\n",
    "# plt.xlim([120, 300])\n",
    "# plt.scatter(obsx, obsy)\n",
    "# plt.plot(modx, mody)"
   ]
  },
  {
   "cell_type": "code",
   "execution_count": null,
   "metadata": {},
   "outputs": [],
   "source": [
    "## Run1"
   ]
  },
  {
   "cell_type": "code",
   "execution_count": 124,
   "metadata": {},
   "outputs": [
    {
     "data": {
      "text/plain": [
       "array([341.356842, 314.717837, 314.653473, 331.947066, 183.25834 ,\n",
       "       409.907217])"
      ]
     },
     "execution_count": 124,
     "metadata": {},
     "output_type": "execute_result"
    }
   ],
   "source": [
    "npp_mod"
   ]
  },
  {
   "cell_type": "code",
   "execution_count": 136,
   "metadata": {},
   "outputs": [
    {
     "data": {
      "text/plain": [
       "array([551.25      , 268.75      , 290.25      , 276.76363636,\n",
       "       225.        , 407.        ])"
      ]
     },
     "execution_count": 136,
     "metadata": {},
     "output_type": "execute_result"
    }
   ],
   "source": [
    "npp_obs"
   ]
  },
  {
   "cell_type": "code",
   "execution_count": 139,
   "metadata": {},
   "outputs": [
    {
     "data": {
      "text/plain": [
       "array([ 50.05684269, 130.75      ,  58.10496967, 122.85755511,\n",
       "         0.        ,   0.        ])"
      ]
     },
     "execution_count": 139,
     "metadata": {},
     "output_type": "execute_result"
    }
   ],
   "source": [
    "npp_obsstd"
   ]
  },
  {
   "cell_type": "code",
   "execution_count": 125,
   "metadata": {},
   "outputs": [
    {
     "data": {
      "text/plain": [
       "array([272.887625, 315.6685  , 315.513375, 279.53725 , 215.890875,\n",
       "       306.227875])"
      ]
     },
     "execution_count": 125,
     "metadata": {},
     "output_type": "execute_result"
    }
   ],
   "source": [
    "rh_mod"
   ]
  },
  {
   "cell_type": "code",
   "execution_count": 126,
   "metadata": {},
   "outputs": [
    {
     "data": {
      "text/plain": [
       "array([321.5 , 352.5 , 341.25,    nan,    nan, 362.  ])"
      ]
     },
     "execution_count": 126,
     "metadata": {},
     "output_type": "execute_result"
    }
   ],
   "source": [
    "rh_obs"
   ]
  },
  {
   "cell_type": "code",
   "execution_count": 115,
   "metadata": {},
   "outputs": [
    {
     "data": {
      "text/plain": [
       "array([35.11765938, 87.5       , 37.66546827,         nan,         nan,\n",
       "        0.        ])"
      ]
     },
     "execution_count": 115,
     "metadata": {},
     "output_type": "execute_result"
    }
   ],
   "source": [
    "rh_obsstd"
   ]
  },
  {
   "cell_type": "code",
   "execution_count": 130,
   "metadata": {},
   "outputs": [
    {
     "data": {
      "image/png": "[encoded data removed]",
      "text/plain": [
       "<Figure size 640x480 with 1 Axes>"
      ]
     },
     "metadata": {},
     "output_type": "display_data"
    }
   ],
   "source": [
    "# reate horizontal bar chart to show NPP and Rh\n",
    "# Fixing random state for reproducibility\n",
    "np.random.seed(19680801)\n",
    "\n",
    "\n",
    "plt.rcdefaults()\n",
    "fig, ax = plt.subplots()\n",
    "\n",
    "# Example data\n",
    "people = ('boreal_4166', 'boreal_2396', 'boreal_2534', 'boreal_4604', 'boreal_5305', 'boreal_decid_1382')\n",
    "y_pos = np.arange(len(people))\n",
    "performance = 3 + 10 * np.random.rand(len(people))\n",
    "error = np.random.rand(len(people))\n",
    "\n",
    "ax.barh(y_pos, performance, xerr=error, align='center')\n",
    "ax.set_yticks(y_pos)\n",
    "ax.set_yticklabels(people)\n",
    "ax.invert_yaxis()  # labels read top-to-bottom\n",
    "ax.set_xlabel('NPP')\n",
    "ax.set_title('Site-level NPP')\n",
    "\n",
    "plt.show()\n"
   ]
  },
  {
   "cell_type": "code",
   "execution_count": 48,
   "metadata": {},
   "outputs": [
    {
     "name": "stdout",
     "output_type": "stream",
     "text": [
      "0.27802330404299685\n"
     ]
    }
   ],
   "source": [
    "#========================================================\n",
    "# Calculate R2\n",
    "#========================================================\n",
    "\n",
    "Xobs = obs_decid   # Obs CH4 flux\n",
    "Xmod = mod_decid   # CH4 flux from ISAM\n",
    "\n",
    "Xobs[np.isnan(Xmod)] = np.float('nan')\n",
    "Xmod[np.isnan(Xobs)] = np.float('nan')\n",
    "correlation = ma.corrcoef(ma.masked_invalid(Xobs), ma.masked_invalid(Xmod))[0,1]\n",
    "r2 = correlation*correlation\n",
    "print(r2)"
   ]
  },
  {
   "cell_type": "code",
   "execution_count": 53,
   "metadata": {},
   "outputs": [
    {
     "name": "stdout",
     "output_type": "stream",
     "text": [
      "-0.8202657632653063\n"
     ]
    }
   ],
   "source": [
    "#========================================================\n",
    "# Calculate ME for specific site\n",
    "#========================================================\n",
    "Xobs = obs_shrub   # Obs CH4 flux\n",
    "Xmod = mod_shrub   # CH4 flux from ISAM\n",
    "me = np.nanmean(Xobs-Xmod)\n",
    "print(me)"
   ]
  },
  {
   "cell_type": "code",
   "execution_count": null,
   "metadata": {},
   "outputs": [],
   "source": []
  },
  {
   "cell_type": "code",
   "execution_count": 46,
   "metadata": {},
   "outputs": [
    {
     "name": "stderr",
     "output_type": "stream",
     "text": [
      "/global/common/cori_cle7/software/python/2.7-anaconda-2019.07/lib/python2.7/site-packages/ipykernel_launcher.py:34: RuntimeWarning: Tried to set a label via parameter u'y' in func 'errorbar' but couldn't find such an argument.\n",
      "(This is a programming error, please report to the Matplotlib list!)\n"
     ]
    },
    {
     "ename": "TypeError",
     "evalue": "errorbar() takes at least 3 arguments (1 given)",
     "output_type": "error",
     "traceback": [
      "\u001b[0;31m\u001b[0m",
      "\u001b[0;31mTypeError\u001b[0mTraceback (most recent call last)",
      "\u001b[0;32m<ipython-input-46-ae8461c83679>\u001b[0m in \u001b[0;36m<module>\u001b[0;34m()\u001b[0m\n\u001b[1;32m     32\u001b[0m \u001b[0mplt\u001b[0m\u001b[0;34m.\u001b[0m\u001b[0mscatter\u001b[0m\u001b[0;34m(\u001b[0m\u001b[0mobs_g_mean\u001b[0m\u001b[0;34m,\u001b[0m \u001b[0mmod_g_mean\u001b[0m\u001b[0;34m,\u001b[0m \u001b[0mcolor\u001b[0m\u001b[0;34m=\u001b[0m\u001b[0;34m'blue'\u001b[0m\u001b[0;34m)\u001b[0m\u001b[0;34m\u001b[0m\u001b[0m\n\u001b[1;32m     33\u001b[0m \u001b[0mplt\u001b[0m\u001b[0;34m.\u001b[0m\u001b[0mscatter\u001b[0m\u001b[0;34m(\u001b[0m\u001b[0mobs_s_mean\u001b[0m\u001b[0;34m,\u001b[0m \u001b[0mmod_s_mean\u001b[0m\u001b[0;34m,\u001b[0m \u001b[0mcolor\u001b[0m\u001b[0;34m=\u001b[0m\u001b[0;34m'red'\u001b[0m\u001b[0;34m)\u001b[0m\u001b[0;34m\u001b[0m\u001b[0m\n\u001b[0;32m---> 34\u001b[0;31m \u001b[0max\u001b[0m\u001b[0;34m.\u001b[0m\u001b[0merrorbar\u001b[0m\u001b[0;34m(\u001b[0m\u001b[0;34m)\u001b[0m\u001b[0;34m\u001b[0m\u001b[0m\n\u001b[0m\u001b[1;32m     35\u001b[0m \u001b[0mline\u001b[0m \u001b[0;34m=\u001b[0m \u001b[0mmlines\u001b[0m\u001b[0;34m.\u001b[0m\u001b[0mLine2D\u001b[0m\u001b[0;34m(\u001b[0m\u001b[0;34m[\u001b[0m\u001b[0;36m0\u001b[0m\u001b[0;34m,\u001b[0m \u001b[0;36m4.5\u001b[0m\u001b[0;34m]\u001b[0m\u001b[0;34m,\u001b[0m \u001b[0;34m[\u001b[0m\u001b[0;36m0\u001b[0m\u001b[0;34m,\u001b[0m \u001b[0;36m4.5\u001b[0m\u001b[0;34m]\u001b[0m\u001b[0;34m,\u001b[0m \u001b[0mcolor\u001b[0m\u001b[0;34m=\u001b[0m\u001b[0;34m'red'\u001b[0m\u001b[0;34m)\u001b[0m\u001b[0;34m\u001b[0m\u001b[0m\n\u001b[1;32m     36\u001b[0m \u001b[0max\u001b[0m\u001b[0;34m.\u001b[0m\u001b[0madd_line\u001b[0m\u001b[0;34m(\u001b[0m\u001b[0mline\u001b[0m\u001b[0;34m)\u001b[0m\u001b[0;34m\u001b[0m\u001b[0m\n",
      "\u001b[0;32m/usr/common/software/python/2.7-anaconda-2019.07/lib/python2.7/site-packages/matplotlib/__init__.pyc\u001b[0m in \u001b[0;36minner\u001b[0;34m(ax, *args, **kwargs)\u001b[0m\n\u001b[1;32m   1865\u001b[0m                         \u001b[0;34m\"the Matplotlib list!)\"\u001b[0m \u001b[0;34m%\u001b[0m \u001b[0;34m(\u001b[0m\u001b[0mlabel_namer\u001b[0m\u001b[0;34m,\u001b[0m \u001b[0mfunc\u001b[0m\u001b[0;34m.\u001b[0m\u001b[0m__name__\u001b[0m\u001b[0;34m)\u001b[0m\u001b[0;34m,\u001b[0m\u001b[0;34m\u001b[0m\u001b[0m\n\u001b[1;32m   1866\u001b[0m                         RuntimeWarning, stacklevel=2)\n\u001b[0;32m-> 1867\u001b[0;31m             \u001b[0;32mreturn\u001b[0m \u001b[0mfunc\u001b[0m\u001b[0;34m(\u001b[0m\u001b[0max\u001b[0m\u001b[0;34m,\u001b[0m \u001b[0;34m*\u001b[0m\u001b[0margs\u001b[0m\u001b[0;34m,\u001b[0m \u001b[0;34m**\u001b[0m\u001b[0mkwargs\u001b[0m\u001b[0;34m)\u001b[0m\u001b[0;34m\u001b[0m\u001b[0m\n\u001b[0m\u001b[1;32m   1868\u001b[0m \u001b[0;34m\u001b[0m\u001b[0m\n\u001b[1;32m   1869\u001b[0m         inner.__doc__ = _add_data_doc(inner.__doc__,\n",
      "\u001b[0;31mTypeError\u001b[0m: errorbar() takes at least 3 arguments (1 given)"
     ]
    },
    {
     "data": {
      "image/png": "[encoded data removed]",
      "text/plain": [
       "<Figure size 432x288 with 1 Axes>"
      ]
     },
     "metadata": {
      "needs_background": "light"
     },
     "output_type": "display_data"
    }
   ],
   "source": [
    "obs_b_mean = np.mean(obs_boreal)\n",
    "obs_b_std = np.std(obs_boreal)\n",
    "mod_b_mean = np.mean(mod_boreal)\n",
    "mod_b_std = np.std(mod_boreal)\n",
    "\n",
    "obs_d_mean = np.mean(obs_decid)\n",
    "obs_d_std = np.std(obs_decid)\n",
    "mod_d_mean = np.mean(mod_decid)\n",
    "mod_d_std = np.std(mod_decid)\n",
    "\n",
    "obs_t_mean = np.mean(obs_tundra)\n",
    "obs_t_std = np.std(obs_tundra)\n",
    "mod_t_mean = np.mean(mod_tundra)\n",
    "mod_t_std = np.std(mod_tundra)\n",
    "\n",
    "obs_g_mean = np.mean(obs_grass)\n",
    "obs_g_std = np.std(obs_grass)\n",
    "mod_g_mean = np.mean(mod_grass)\n",
    "mod_g_std = np.std(mod_grass)\n",
    "\n",
    "obs_s_mean = np.mean(obs_shrub)\n",
    "obs_s_std = np.std(obs_shrub)\n",
    "mod_s_mean = np.mean(mod_shrub)\n",
    "mod_s_std = np.std(mod_shrub)\n",
    "\n",
    "fig, ax = plt.subplots()\n",
    "plt.xlim([0, 2.5])\n",
    "plt.ylim([0, 2.5])\n",
    "plt.scatter(obs_b_mean, mod_b_mean, color='green')\n",
    "plt.scatter(obs_d_mean, mod_d_mean, color='gold')\n",
    "plt.scatter(obs_t_mean, mod_t_mean, color='brown')\n",
    "plt.scatter(obs_g_mean, mod_g_mean, color='blue')\n",
    "plt.scatter(obs_s_mean, mod_s_mean, color='red')\n",
    "ax.errorbar()\n",
    "line = mlines.Line2D([0, 4.5], [0, 4.5], color='red')\n",
    "ax.add_line(line)\n",
    "plt.legend(['1:1 line', 'Boreal Evergreen', 'Boreal Deciduous', 'Tundra', 'Grassland', 'Shrubland'])\n",
    "#plt.savefig('Calibration_rh_mean.jpg')"
   ]
  },
  {
   "cell_type": "code",
   "execution_count": null,
   "metadata": {},
   "outputs": [],
   "source": []
  },
  {
   "cell_type": "code",
   "execution_count": 53,
   "metadata": {},
   "outputs": [
    {
     "data": {
      "text/plain": [
       "4.6512885622763411"
      ]
     },
     "execution_count": 53,
     "metadata": {},
     "output_type": "execute_result"
    }
   ],
   "source": []
  }
 ],
 "metadata": {
  "kernelspec": {
   "display_name": "Python [conda env:root] *",
   "language": "python",
   "name": "conda-root-py"
  },
  "language_info": {
   "codemirror_mode": {
    "name": "ipython",
    "version": 3
   },
   "file_extension": ".py",
   "mimetype": "text/x-python",
   "name": "python",
   "nbconvert_exporter": "python",
   "pygments_lexer": "ipython3",
   "version": "3.7.3"
  },
  "selected_variables": [],
  "vcdat_file_path": "",
  "vcdat_loaded_variables": [],
  "vcdat_variable_info": {}
 },
 "nbformat": 4,
 "nbformat_minor": 4
}
