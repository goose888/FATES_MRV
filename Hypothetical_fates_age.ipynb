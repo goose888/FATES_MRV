{
 "cells": [
  {
   "cell_type": "code",
   "execution_count": 4,
   "metadata": {
    "tags": []
   },
   "outputs": [],
   "source": [
    "import numpy as np\n",
    "from matplotlib import pyplot as plt\n",
    "import matplotlib.ticker as mtick\n",
    "import pandas as pd\n",
    "import time\n",
    "import xarray as xr\n",
    "import mpl_toolkits as mpl\n",
    "# import plotly.graph_objects as go\n",
    "# import plotly.express as px\n",
    "from scipy import interpolate\n",
    "from matplotlib.pyplot import figure\n"
   ]
  },
  {
   "cell_type": "markdown",
   "metadata": {},
   "source": [
    "### Idealized model to emulate the forest age after harvest rotation"
   ]
  },
  {
   "cell_type": "markdown",
   "metadata": {},
   "source": [
    "#### 1. Mean age model with a single patch"
   ]
  },
  {
   "cell_type": "code",
   "execution_count": null,
   "metadata": {},
   "outputs": [],
   "source": [
    "th_age = 35\n",
    "\n",
    "class PrimaryForest:\n",
    "    def __init__(self):\n",
    "        self.age = 0\n",
    "        self.area = 1.0\n",
    "#         self.rotation_period = rotation_period\n",
    "\n",
    "    def grow(self, years):\n",
    "        for _ in range(years):\n",
    "            self.age += 1\n",
    "\n",
    "    def harvest_vh1(self, SecondaryForest, rate):\n",
    "#         print(\"Harvesting the primary forest at age {\"+str(self.age)+\"} years, rate is \", rate)\n",
    "        self.area = self.area * (1 - rate)\n",
    "        SecondaryForest.area = SecondaryForest.area + self.area * rate\n",
    "\n",
    "class SecondaryForest:\n",
    "    def __init__(self):\n",
    "        self.age = 0\n",
    "        self.area = 0.0\n",
    "#         self.rotation_period = rotation_period\n",
    "\n",
    "    def grow(self, years):\n",
    "        for _ in range(years):\n",
    "            self.age += 1\n",
    "\n",
    "    def harvest_sh1(self, rate):\n",
    "        if(self.age >= th_age):\n",
    "#             print(\"Harvesting the secondary forest at age {\"+str(self.age)+\"} years\")\n",
    "            self.age = self.age * (1 - rate)\n",
    "        \n",
    "    def harvest_sh2(self, rate):\n",
    "#         print(\"Harvesting the secondary forest at age {\"+str(self.age)+\"} years\")\n",
    "        if(self.age < th_age):\n",
    "            self.age = self.age * (1 - rate)\n",
    "\n",
    "# Create a forest patch\n",
    "pforest = PrimaryForest()\n",
    "sforest = SecondaryForest()\n",
    "\n",
    "# Grow the forest for 200 years\n",
    "pforest.grow(years=200)\n",
    "\n",
    "# Timeseries of harvest rate: \n",
    "hr_v1 = 0.1*np.ones((150))\n",
    "hr_s1 = 0.1*np.ones((150))\n",
    "hr_s2 = 0.1*np.ones((150))\n",
    "\n",
    "page_rec = []\n",
    "parea_rec = []\n",
    "sage_rec = []\n",
    "sarea_rec = []\n",
    "# Do a simulation over 150 years\n",
    "for i in np.arange(0,150):\n",
    "    pforest.harvest_vh1(sforest, hr_v1[i])\n",
    "    sforest.harvest_sh1(hr_s1[i])\n",
    "    sforest.harvest_sh2(hr_s2[i])\n",
    "    pforest.grow(years=1)\n",
    "    sforest.grow(years=1)\n",
    "    page_rec.append(pforest.age)\n",
    "    parea_rec.append(pforest.area)\n",
    "    sage_rec.append(sforest.age)\n",
    "    sarea_rec.append(sforest.area)"
   ]
  },
  {
   "cell_type": "code",
   "execution_count": null,
   "metadata": {},
   "outputs": [],
   "source": [
    "plt.plot(sage_rec)"
   ]
  },
  {
   "cell_type": "code",
   "execution_count": null,
   "metadata": {},
   "outputs": [],
   "source": [
    "plt.plot(parea_rec)\n",
    "plt.plot(sarea_rec)"
   ]
  },
  {
   "cell_type": "markdown",
   "metadata": {},
   "source": [
    "#### 2. Age model with infinite patches"
   ]
  },
  {
   "cell_type": "code",
   "execution_count": 117,
   "metadata": {},
   "outputs": [],
   "source": [
    "th_age = 35\n",
    "\n",
    "class PrimaryForest:\n",
    "    def __init__(self, new_area):\n",
    "        self.age = 0\n",
    "        self.area = new_area\n",
    "#         self.rotation_period = rotation_period\n",
    "\n",
    "    def grow(self, years):\n",
    "        for _ in range(years):\n",
    "            self.age += 1\n",
    "\n",
    "    def harvest_vh1(self, rate):\n",
    "#         print(\"Harvesting the primary forest at age {\"+str(self.age)+\"} years, rate is \", rate)\n",
    "        secondary_forest = SecondaryForest(rate)\n",
    "        self.area = self.area - rate\n",
    "        return secondary_forest\n",
    "\n",
    "class SecondaryForest:\n",
    "    def __init__(self, new_area):\n",
    "        self.age = 0\n",
    "        self.area = new_area\n",
    "#         self.rotation_period = rotation_period\n",
    "\n",
    "    def grow(self, years):\n",
    "        for _ in range(years):\n",
    "            self.age += 1\n",
    "\n",
    "    # Need to use the total secondary forest area (1 - parea) to scale the harvest rate\n",
    "    def harvest_sh1(self, sarea_mat, rate):\n",
    "#         print(\"Harvesting the secondary forest at age {\"+str(self.age)+\"} years\")\n",
    "        secondary_forest = SecondaryForest(rate * self.area / (sarea_mat + 1e-7))\n",
    "        self.area = self.area - rate * self.area / (sarea_mat + 1e-7)\n",
    "        return secondary_forest\n",
    "        \n",
    "    def harvest_sh2(self, sarea_yng, rate):\n",
    "#         print(\"Harvesting the secondary forest at age {\"+str(self.age)+\"} years\")\n",
    "        secondary_forest = SecondaryForest(rate * self.area / (sarea_yng + 1e-7))\n",
    "        self.area = self.area - rate * self.area / (sarea_yng + 1e-7)\n",
    "        return secondary_forest\n",
    "        \n",
    "    def merge(self, SecondaryForest):\n",
    "        if(self.age == SecondaryForest.age):\n",
    "            self.area = self.area + SecondaryForest.area\n",
    "            SecondaryForest.age = np.float('nan')\n",
    "        \n",
    "# Create the first forest patch\n",
    "pforest = PrimaryForest(new_area=1.0)\n",
    "\n",
    "# Grow the forest for 200 years\n",
    "pforest.grow(years=200)\n",
    "sforest_list = []\n",
    "\n",
    "# Nyr and array to record history output\n",
    "nyr = 150\n",
    "sforest_age = []\n",
    "sforest_area_ap = []\n",
    "sforest_area = []\n",
    "sforest_mat_area = []\n",
    "sforest_yng_area = []\n",
    "pforest_area = []\n",
    "age_bin = np.arange(0,51)\n",
    "\n",
    "# Timeseries of harvest rate: \n",
    "# hr_v1 = np.append((1.0/10.0)*np.ones((10)), np.zeros((nyr - 10)))\n",
    "hr_v1 = np.append((1.0/35.0)*np.ones((35)), np.zeros((nyr - 35)))\n",
    "hr_s1 = (1.0/35.0) * np.ones((nyr))\n",
    "hr_s2 = np.zeros((nyr))\n",
    "\n",
    "# Need to force the sume of hr_v1 to 1.0 if exceeds\n",
    "if(np.nansum(hr_v1) > 1.0):\n",
    "    hr_v1 = hr_v1 / (np.nansum(hr_v1) + 1e-7)\n",
    "\n",
    "# Do a simulation over 150 years\n",
    "for iyr in np.arange(0, nyr):\n",
    "    # Harvest\n",
    "    new_sforest_from_p = pforest.harvest_vh1(rate=hr_v1[iyr])\n",
    "    new_sforest_from_s = []\n",
    "    for sforest in sforest_list:\n",
    "        if(sforest.age >= th_age):\n",
    "            new_sforest_from_s.append(sforest.harvest_sh1(sarea_mat=sarea_mat, rate=hr_s1[iyr]))\n",
    "        else:\n",
    "            new_sforest_from_s.append(sforest.harvest_sh2(sarea_yng=sarea_yng, rate=hr_s2[iyr]))\n",
    "    sforest_list.append(new_sforest_from_p)\n",
    "    if(len(new_sforest_from_s) > 0):\n",
    "        sforest_list.extend(new_sforest_from_s)\n",
    "    # Merge all patches with the same age\n",
    "    listlen = len(sforest_list)\n",
    "    if (len(sforest_list) >= 2):\n",
    "        for i in np.arange(0,listlen-1):\n",
    "            for j in np.arange(i+1,listlen):\n",
    "                sforest_list[i].merge(sforest_list[j])\n",
    "        indices_to_remove = []\n",
    "        for i in np.arange(0,listlen):\n",
    "            if (np.isnan(sforest_list[i].age)):\n",
    "                indices_to_remove.append(i)\n",
    "        for i in sorted(indices_to_remove, reverse=True):\n",
    "            del sforest_list[i]\n",
    "    # Growth\n",
    "    pforest.grow(years=1)\n",
    "    for sforest in sforest_list:\n",
    "        sforest.grow(years=1)\n",
    "        \n",
    "    # Obtain the total area of secondary mature and secondary young for\n",
    "    # calculating the harvest for the next year\n",
    "    sarea_mat = 0\n",
    "    sarea_yng = 0\n",
    "    for sforest in sforest_list:\n",
    "        if(sforest.age >= th_age):\n",
    "            sarea_mat = sarea_mat + sforest.area\n",
    "        else:\n",
    "            sarea_yng = sarea_yng + sforest.area\n",
    "\n",
    "    # Output history    \n",
    "    agg_sforest_area = 0.0\n",
    "    agg_sforest_age = 0.0\n",
    "    for sforest in sforest_list:\n",
    "        agg_sforest_area = agg_sforest_area + sforest.area\n",
    "    for sforest in sforest_list:\n",
    "        agg_sforest_age = agg_sforest_age + sforest.age * sforest.area / (agg_sforest_area + 1e-7)\n",
    "    pforest_area.append(pforest.area)\n",
    "    sforest_area.append(agg_sforest_area)\n",
    "    sforest_mat_area.append(sarea_mat)\n",
    "    sforest_yng_area.append(sarea_yng)\n",
    "    sforest_age.append(agg_sforest_age)\n",
    "    \n",
    "    # Use the pre-defined age-bin\n",
    "    sf_area_ap = np.zeros((len(age_bin)-1))\n",
    "    for sforest in sforest_list:\n",
    "        for i in np.arange(0, len(sf_area_ap)):\n",
    "            if (sforest.age > age_bin[i] and sforest.age <= age_bin[i+1]):\n",
    "                sf_area_ap[i] = sf_area_ap[i] + sforest.area\n",
    "    sforest_area_ap.append(sf_area_ap)\n",
    "\n",
    "    #print('Passed one year. Current year is '+ str(iyr+1))"
   ]
  },
  {
   "cell_type": "code",
   "execution_count": 110,
   "metadata": {},
   "outputs": [
    {
     "data": {
      "text/plain": [
       "(150L, 50L)"
      ]
     },
     "execution_count": 110,
     "metadata": {},
     "output_type": "execute_result"
    }
   ],
   "source": [
    "np.shape(sforest_area_ap)"
   ]
  },
  {
   "cell_type": "code",
   "execution_count": 124,
   "metadata": {},
   "outputs": [
    {
     "data": {
      "text/plain": [
       "array([2.85713286e-02, 2.85713286e-02, 2.85713286e-02, 2.85713286e-02,\n",
       "       2.85713286e-02, 2.85713286e-02, 2.85713286e-02, 2.85713286e-02,\n",
       "       2.85713286e-02, 2.85713286e-02, 2.85713286e-02, 2.85713286e-02,\n",
       "       2.85713286e-02, 2.85713286e-02, 2.85713286e-02, 2.85713286e-02,\n",
       "       2.85714286e-02, 2.85714286e-02, 2.85714286e-02, 2.85714286e-02,\n",
       "       2.85714286e-02, 2.85714286e-02, 2.85714286e-02, 2.85714286e-02,\n",
       "       2.85714286e-02, 2.85714286e-02, 2.85714286e-02, 2.85714286e-02,\n",
       "       2.85714286e-02, 2.85714286e-02, 2.85714286e-02, 2.85714286e-02,\n",
       "       2.85714286e-02, 2.85714286e-02, 2.85714286e-02, 1.59986841e-06,\n",
       "       8.39866247e-11, 4.11504936e-15, 1.87222296e-19, 7.86285482e-24,\n",
       "       3.02702959e-28, 1.05940659e-32, 3.33697893e-37, 9.34316496e-42,\n",
       "       2.28899530e-46, 4.80674713e-51, 8.41160139e-56, 1.17760153e-60,\n",
       "       1.23646429e-65, 8.65517431e-71])"
      ]
     },
     "execution_count": 124,
     "metadata": {},
     "output_type": "execute_result"
    }
   ],
   "source": [
    "np.array(sforest_area_ap)[50,:]"
   ]
  },
  {
   "cell_type": "code",
   "execution_count": 105,
   "metadata": {},
   "outputs": [
    {
     "data": {
      "text/plain": [
       "array([ 0.02857133,  0.08571414,  0.17142837,  0.28571404,  0.42857113,\n",
       "        0.59999965,  0.7999996 ,  1.02857098,  1.28571379,  1.57142802,\n",
       "        1.88571369,  2.22857078,  2.5999993 ,  2.99999925,  3.42857063,\n",
       "        3.88571344,  4.37142767,  4.88571334,  5.42857043,  5.99999895,\n",
       "        6.5999989 ,  7.22857028,  7.88571309,  8.57142732,  9.28571299,\n",
       "       10.02857008, 10.7999986 , 11.59999855, 12.42856993, 13.28571274,\n",
       "       14.17142697, 15.08571264, 16.02856973, 16.99999825, 17.9999982 ,\n",
       "       18.0000017 , 18.0000051 , 18.0000084 , 18.0000116 , 18.0000147 ,\n",
       "       18.0000177 , 18.0000206 , 18.0000234 , 18.0000261 , 18.0000287 ,\n",
       "       18.0000312 , 18.0000336 , 18.0000359 , 18.0000381 , 18.0000402 ,\n",
       "       18.0000422 , 18.0000441 , 18.0000459 , 18.0000476 , 18.0000492 ,\n",
       "       18.0000507 , 18.0000521 , 18.0000534 , 18.0000546 , 18.0000557 ,\n",
       "       18.0000567 , 18.0000576 , 18.0000584 , 18.0000591 , 18.0000597 ,\n",
       "       18.0000602 , 18.0000606 , 18.0000609 , 18.0000611 , 18.0000612 ,\n",
       "       18.00006119, 18.00006119, 18.00006119, 18.00006119, 18.00006119])"
      ]
     },
     "execution_count": 105,
     "metadata": {},
     "output_type": "execute_result"
    }
   ],
   "source": [
    "fage = np.array(sforest_age[0:75])*np.array(sforest_area[0:75])"
   ]
  },
  {
   "cell_type": "code",
   "execution_count": 108,
   "metadata": {},
   "outputs": [
    {
     "data": {
      "text/plain": [
       "Text(0,0.5,'mean age')"
      ]
     },
     "execution_count": 108,
     "metadata": {},
     "output_type": "execute_result"
    },
    {
     "data": {
      "image/png": "[encoded data removed]",
      "text/plain": [
       "<Figure size 450x450 with 1 Axes>"
      ]
     },
     "metadata": {
      "needs_background": "light"
     },
     "output_type": "display_data"
    }
   ],
   "source": [
    "# Make plots\n",
    "figure(figsize=(3, 3), dpi=150)\n",
    "plt.plot((sforest_age[0:75])*np.array(sforest_area[0:75]))\n",
    "plt.legend(['S age'])\n",
    "plt.xlabel('year')\n",
    "plt.ylabel('mean age')"
   ]
  },
  {
   "cell_type": "code",
   "execution_count": 53,
   "metadata": {},
   "outputs": [
    {
     "data": {
      "text/plain": [
       "Text(0,0.5,'Fractional area')"
      ]
     },
     "execution_count": 53,
     "metadata": {},
     "output_type": "execute_result"
    },
    {
     "data": {
      "image/png": "[encoded data removed]",
      "text/plain": [
       "<Figure size 450x450 with 1 Axes>"
      ]
     },
     "metadata": {
      "needs_background": "light"
     },
     "output_type": "display_data"
    }
   ],
   "source": [
    "figure(figsize=(3, 3), dpi=150)\n",
    "plt.plot(pforest_area)\n",
    "plt.plot(sforest_area)\n",
    "plt.plot(sforest_mat_area)\n",
    "plt.plot(sforest_yng_area)\n",
    "# plt.plot(np.array(pforest_area)+np.array(sforest_area))\n",
    "plt.legend(['P area', 'S area', 'SMat area', 'SYng area'])\n",
    "plt.xlabel('year')\n",
    "plt.ylabel('Fractional area')"
   ]
  },
  {
   "cell_type": "code",
   "execution_count": 86,
   "metadata": {},
   "outputs": [
    {
     "data": {
      "text/plain": [
       "Text(0,0.5,'Fractional area')"
      ]
     },
     "execution_count": 86,
     "metadata": {},
     "output_type": "execute_result"
    },
    {
     "data": {
      "image/png": "[encoded data removed]",
      "text/plain": [
       "<Figure size 450x450 with 1 Axes>"
      ]
     },
     "metadata": {
      "needs_background": "light"
     },
     "output_type": "display_data"
    }
   ],
   "source": [
    "### histogram of the age\n",
    "figure(figsize=(3, 3), dpi=150)\n",
    "plt.bar(age_bin[1:8], sforest_area_ap[149])\n",
    "plt.xlabel('Age')\n",
    "plt.ylabel('Fractional area')"
   ]
  }
 ],
 "metadata": {
  "kernelspec": {
   "display_name": "Python 2",
   "language": "python",
   "name": "python2"
  },
  "language_info": {
   "codemirror_mode": {
    "name": "ipython",
    "version": 2
   },
   "file_extension": ".py",
   "mimetype": "text/x-python",
   "name": "python",
   "nbconvert_exporter": "python",
   "pygments_lexer": "ipython2",
   "version": "2.7.16"
  }
 },
 "nbformat": 4,
 "nbformat_minor": 5
}
