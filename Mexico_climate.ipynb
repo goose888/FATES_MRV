{
 "cells": [
  {
   "cell_type": "code",
   "execution_count": 25,
   "metadata": {},
   "outputs": [],
   "source": [
    "import numpy as np\n",
    "import json\n",
    "import pandas as pd"
   ]
  },
  {
   "cell_type": "code",
   "execution_count": 28,
   "metadata": {},
   "outputs": [],
   "source": [
    "# Opening JSON file\n",
    "f = open('results_climate_data.json')\n",
    " \n",
    "# returns JSON object as \n",
    "# a dictionary\n",
    "data = json.load(f)\n",
    "\n",
    "# Closing file\n",
    "f.close()"
   ]
  },
  {
   "cell_type": "code",
   "execution_count": 86,
   "metadata": {},
   "outputs": [],
   "source": [
    "# Annual variables\n",
    "years = np.array(data['optional'][0]['results'][0]['value']['years']).astype(str)\n",
    "aprec = np.array(data['optional'][0]['results'][0]['value']['annualPr']).astype(float)\n",
    "aaet = np.array(data['optional'][0]['results'][1]['value']['annualAet']).astype(float)\n",
    "aro = np.array(data['optional'][0]['results'][2]['value']['annualRo']).astype(float)\n",
    "asm = np.array(data['optional'][0]['results'][3]['value']['annualSoil']).astype(float)"
   ]
  },
  {
   "cell_type": "code",
   "execution_count": 92,
   "metadata": {},
   "outputs": [],
   "source": [
    "# Monthly variables\n",
    "months = np.array(data['optional'][0]['results'][4]['value']['months']).astype(str)\n",
    "mprec = np.array(data['optional'][0]['results'][4]['value']['monthlyPr']).astype(float)\n",
    "maet = np.array(data['optional'][0]['results'][5]['value']['monthlyAet']).astype(float)\n",
    "mro = np.array(data['optional'][0]['results'][6]['value']['monthlyRo']).astype(float)\n",
    "msm = np.array(data['optional'][0]['results'][7]['value']['monthlySoil']).astype(float)"
   ]
  },
  {
   "cell_type": "code",
   "execution_count": null,
   "metadata": {},
   "outputs": [],
   "source": []
  }
 ],
 "metadata": {
  "kernelspec": {
   "display_name": "Python 2",
   "language": "python",
   "name": "python2"
  },
  "language_info": {
   "codemirror_mode": {
    "name": "ipython",
    "version": 2
   },
   "file_extension": ".py",
   "mimetype": "text/x-python",
   "name": "python",
   "nbconvert_exporter": "python",
   "pygments_lexer": "ipython2",
   "version": "2.7.16"
  }
 },
 "nbformat": 4,
 "nbformat_minor": 2
}
