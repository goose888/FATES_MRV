{
 "cells": [
  {
   "cell_type": "code",
   "execution_count": 3,
   "metadata": {},
   "outputs": [],
   "source": [
    "# Examine SBGC results\n",
    "from netCDF4 import Dataset as NetCDFFile\n",
    "import math\n",
    "import numpy as np\n",
    "import isamcalc_lib as isam\n",
    "import matplotlib.pyplot as plt\n",
    "from matplotlib import colors\n",
    "import numpy.ma as ma\n",
    "from scipy.interpolate import griddata\n",
    "import copy"
   ]
  },
  {
   "cell_type": "code",
   "execution_count": 3,
   "metadata": {},
   "outputs": [],
   "source": [
    "# Options\n",
    "fpath='/global/cscratch1/sd/sshu3/SBGC/data/'\n",
    "frootfr='bgp_to_bgc_initial_rootfr.nc'\n",
    "frootfr_new='bgp_to_bgc_initial_rootfr_new.nc'\n",
    "flc='verify_time_invarient.nc'\n",
    "varname_rootfr='rootfr_bgc'\n",
    "varname_lc='c_pft_fraction'\n",
    "nlon=720\n",
    "nlat=360\n"
   ]
  },
  {
   "cell_type": "code",
   "execution_count": 4,
   "metadata": {},
   "outputs": [],
   "source": [
    "# Data from paper Schenk and Jackson, 2002\n",
    "obs_rootfr_boreal=np.array([0, 72.2093023255814,18.3139534883721,5.49418604651162,2.61627906976744,1.56976744186046,1.04651162790697,0.784883720930232, 0.523255813953483])\n",
    "obs_dp=np.array([0, -5.82089552238805,-24.6268656716418,-42.5373134328358,-60.8955223880597,-78.8059701492537,-97.6119402985075,-114.626865671642,-133.432835820896])\n",
    "obs_rootfr_boreal = obs_rootfr_boreal * 0.01\n",
    "obs_dp = obs_dp * 0.01\n",
    "accu_fr_obs = np.zeros((9))\n",
    "# Get accumulated fraction\n",
    "for j in np.arange(9):\n",
    "    if(j == 0):\n",
    "        accu_fr_obs[j] = 0\n",
    "    else:\n",
    "        accu_fr_obs[j] = accu_fr_obs[j-1]+obs_rootfr_boreal[j]\n",
    "\n"
   ]
  },
  {
   "cell_type": "code",
   "execution_count": 44,
   "metadata": {},
   "outputs": [
    {
     "data": {
      "text/plain": [
       "(8,)"
      ]
     },
     "execution_count": 44,
     "metadata": {},
     "output_type": "execute_result"
    }
   ],
   "source": [
    "np.shape(accu_fr_obs)"
   ]
  },
  {
   "cell_type": "code",
   "execution_count": 5,
   "metadata": {},
   "outputs": [
    {
     "name": "stderr",
     "output_type": "stream",
     "text": [
      "/global/common/cori/software/python/2.7-anaconda-5.2/lib/python2.7/site-packages/ipykernel_launcher.py:25: MaskedArrayFutureWarning: setting an item on a masked array which has a shared mask will not copy the mask and also change the original mask array in the future.\n",
      "Check the NumPy 1.11 release notes for more information.\n",
      "/global/common/cori/software/python/2.7-anaconda-5.2/lib/python2.7/site-packages/ipykernel_launcher.py:27: RuntimeWarning: Mean of empty slice\n",
      "/global/common/cori/software/python/2.7-anaconda-5.2/lib/python2.7/site-packages/ipykernel_launcher.py:29: MaskedArrayFutureWarning: setting an item on a masked array which has a shared mask will not copy the mask and also change the original mask array in the future.\n",
      "Check the NumPy 1.11 release notes for more information.\n",
      "/global/common/cori/software/python/2.7-anaconda-5.2/lib/python2.7/site-packages/ipykernel_launcher.py:30: RuntimeWarning: Mean of empty slice\n"
     ]
    }
   ],
   "source": [
    "# Read in rootfr\n",
    "fp=fpath+frootfr\n",
    "nclu=NetCDFFile(fp,'r')\n",
    "rootfr = nclu.variables[varname_rootfr][:]\n",
    "nclu.close()\n",
    "# Read in LC\n",
    "fp=fpath+flc\n",
    "nclu=NetCDFFile(fp,'r')\n",
    "lc = nclu.variables[varname_lc][:]\n",
    "nclu.close()\n",
    "# Read in new rootfr\n",
    "fp=fpath+frootfr_new\n",
    "nclu=NetCDFFile(fp,'r')\n",
    "rootfr_new = nclu.variables[varname_rootfr][:]\n",
    "nclu.close()\n",
    "\n",
    "fr_mean=np.zeros((10,24))\n",
    "fr_mean_new=np.zeros((10,24))\n",
    "\n",
    "# mask the value using lc and calculate the mean profile for each lc type\n",
    "for i in np.arange(24):\n",
    "    for j in np.arange(10):\n",
    "        pfr = rootfr[j,i,:,:]\n",
    "        plc = lc[i,:,:]\n",
    "        pfr[plc<=0] = np.float('nan')\n",
    "        rootfr[j,i,:,:] = pfr\n",
    "        fr_mean[j,i] = np.nanmean(pfr)\n",
    "        pfr = rootfr_new[j,i,:,:]\n",
    "        pfr[plc<=0] = np.float('nan')\n",
    "        fr_mean_new[j,i] = np.nanmean(pfr)\n",
    "\n",
    "accu_fr_mean=np.zeros((10,24))\n",
    "accu_fr_mean_new=np.zeros((10,24))\n",
    "# Get accumulated fraction\n",
    "for i in np.arange(24):\n",
    "    for j in np.arange(10):\n",
    "        if(j == 0):\n",
    "            accu_fr_mean[j,i] = fr_mean[j,i]\n",
    "            accu_fr_mean_new[j,i] = fr_mean_new[j,i]\n",
    "        else:\n",
    "            accu_fr_mean[j,i] = accu_fr_mean[j-1,i]+fr_mean[j,i]\n",
    "            accu_fr_mean_new[j,i] = accu_fr_mean_new[j-1,i]+fr_mean_new[j,i]\n",
    "\n",
    "dp = isam.get_isam_soildp(10)\n"
   ]
  },
  {
   "cell_type": "code",
   "execution_count": 67,
   "metadata": {},
   "outputs": [
    {
     "data": {
      "text/plain": [
       "array([ 0.05837018,  0.14343375,  0.26716959,  0.43325407,  0.62878415,\n",
       "        0.8149369 ,  0.94818914,  1.00000004,  1.00000004,  1.00000004])"
      ]
     },
     "execution_count": 67,
     "metadata": {},
     "output_type": "execute_result"
    }
   ],
   "source": [
    "accu_fr_mean[:,4]"
   ]
  },
  {
   "cell_type": "code",
   "execution_count": 13,
   "metadata": {},
   "outputs": [],
   "source": [
    "accu_fr_mean_new[:,4] = [ 0.19958919,  0.53625227,  0.68363304,  0.77788406,  0.87, 1.00000001,\n",
    "        1.00000001,  1.00000001,  1.00000001,  1.00000001]"
   ]
  },
  {
   "cell_type": "code",
   "execution_count": 14,
   "metadata": {},
   "outputs": [
    {
     "data": {
      "text/plain": [
       "(-1, 0)"
      ]
     },
     "execution_count": 14,
     "metadata": {},
     "output_type": "execute_result"
    },
    {
     "data": {
      "image/png": "[encoded data removed]",
      "text/plain": [
       "<Figure size 432x288 with 1 Axes>"
      ]
     },
     "metadata": {},
     "output_type": "display_data"
    }
   ],
   "source": [
    "plt.plot(-dp[0], accu_fr_mean[:,4])\n",
    "plt.plot(-dp[0], accu_fr_mean_new[:,4])\n",
    "plt.plot(obs_dp, accu_fr_obs)\n",
    "\n",
    "plt.xlim([-1, 0])"
   ]
  },
  {
   "cell_type": "code",
   "execution_count": 78,
   "metadata": {},
   "outputs": [],
   "source": [
    "# Examine the vertical SOC stock over the study area\n",
    "fpath='/global/cscratch1/sd/sshu3/SBGC/data/'\n",
    "fsoilc='Global_1DSBGC.bgc-yearly-3d_11900.nc'\n",
    "varname_soilc='soil_c_lev'\n",
    "# Read in soilc\n",
    "fp=fpath+fsoilc\n",
    "nclu=NetCDFFile(fp,'r')\n",
    "soilc_lev = nclu.variables[varname_soilc][:]\n",
    "nclu.close()\n",
    "\n",
    "# Calculate Earth's area\n",
    "# Area of each grid\n",
    "grid_area = np.zeros((nlat, nlon))\n",
    "EARTH_AREA = 5.096e14\n",
    "lat = np.arange(-89.75, 90.25, 0.5)\n",
    "res = 0.5\n",
    "\n",
    "for i in np.arange(0,nlat):\n",
    "    for j in np.arange(0,nlon):\n",
    "        grid_area[i,j] = (EARTH_AREA/2)*abs(np.sin((lat[i] - res/2)*math.pi/180) -\n",
    "                np.sin((lat[i] + res/2)*math.pi/180))/(360/res)\n",
    "\n",
    "totsoilc = np.zeros((10))\n",
    "for i in np.arange(10):\n",
    "    soilc_lev[i,:,:] = soilc_lev[i,:,:]*grid_area\n",
    "    totsoilc[i] = np.nansum(soilc_lev[i,:,:])/1e12"
   ]
  },
  {
   "cell_type": "code",
   "execution_count": 80,
   "metadata": {},
   "outputs": [
    {
     "data": {
      "text/plain": [
       "array([  31.71021416,   31.05277805,   34.85970801,   48.49331746,\n",
       "         68.36986355,   97.14130192,  138.29090895,  139.35125729,\n",
       "         47.58606545,    1.69532103])"
      ]
     },
     "execution_count": 80,
     "metadata": {},
     "output_type": "execute_result"
    }
   ],
   "source": [
    "totsoilc"
   ]
  },
  {
   "cell_type": "code",
   "execution_count": 81,
   "metadata": {},
   "outputs": [
    {
     "data": {
      "text/plain": [
       "311.62718314587516"
      ]
     },
     "execution_count": 81,
     "metadata": {},
     "output_type": "execute_result"
    }
   ],
   "source": [
    "np.sum(totsoilc[0:6])"
   ]
  },
  {
   "cell_type": "code",
   "execution_count": 27,
   "metadata": {},
   "outputs": [
    {
     "name": "stderr",
     "output_type": "stream",
     "text": [
      "/global/common/cori/software/python/2.7-anaconda-5.2/lib/python2.7/site-packages/ipykernel_launcher.py:64: RuntimeWarning: invalid value encountered in greater\n",
      "/global/common/cori/software/python/2.7-anaconda-5.2/lib/python2.7/site-packages/ipykernel_launcher.py:65: RuntimeWarning: invalid value encountered in greater\n",
      "/global/common/cori/software/python/2.7-anaconda-5.2/lib/python2.7/site-packages/ipykernel_launcher.py:66: RuntimeWarning: invalid value encountered in greater\n",
      "/global/common/cori/software/python/2.7-anaconda-5.2/lib/python2.7/site-packages/ipykernel_launcher.py:67: RuntimeWarning: invalid value encountered in greater\n",
      "/global/common/cori/software/python/2.7-anaconda-5.2/lib/python2.7/site-packages/ipykernel_launcher.py:68: RuntimeWarning: invalid value encountered in greater\n",
      "/global/common/cori/software/python/2.7-anaconda-5.2/lib/python2.7/site-packages/ipykernel_launcher.py:69: RuntimeWarning: invalid value encountered in greater\n",
      "/global/common/cori/software/python/2.7-anaconda-5.2/lib/python2.7/site-packages/ipykernel_launcher.py:70: RuntimeWarning: invalid value encountered in greater\n",
      "/global/common/cori/software/python/2.7-anaconda-5.2/lib/python2.7/site-packages/ipykernel_launcher.py:71: RuntimeWarning: invalid value encountered in greater\n",
      "/global/common/cori/software/python/2.7-anaconda-5.2/lib/python2.7/site-packages/ipykernel_launcher.py:72: RuntimeWarning: invalid value encountered in less_equal\n",
      "/global/common/cori/software/python/2.7-anaconda-5.2/lib/python2.7/site-packages/ipykernel_launcher.py:73: RuntimeWarning: invalid value encountered in less_equal\n",
      "/global/common/cori/software/python/2.7-anaconda-5.2/lib/python2.7/site-packages/ipykernel_launcher.py:74: RuntimeWarning: invalid value encountered in less_equal\n",
      "/global/common/cori/software/python/2.7-anaconda-5.2/lib/python2.7/site-packages/ipykernel_launcher.py:75: RuntimeWarning: invalid value encountered in less_equal\n",
      "/global/common/cori/software/python/2.7-anaconda-5.2/lib/python2.7/site-packages/ipykernel_launcher.py:76: RuntimeWarning: invalid value encountered in less_equal\n",
      "/global/common/cori/software/python/2.7-anaconda-5.2/lib/python2.7/site-packages/ipykernel_launcher.py:77: RuntimeWarning: invalid value encountered in less_equal\n",
      "/global/common/cori/software/python/2.7-anaconda-5.2/lib/python2.7/site-packages/ipykernel_launcher.py:78: RuntimeWarning: invalid value encountered in less_equal\n",
      "/global/common/cori/software/python/2.7-anaconda-5.2/lib/python2.7/site-packages/ipykernel_launcher.py:79: RuntimeWarning: invalid value encountered in less_equal\n"
     ]
    }
   ],
   "source": [
    "# Check Turnover time for 8 pools\n",
    "nlon=720\n",
    "nlat=360\n",
    "fpath='/global/cscratch1/sd/sshu3/trendy_SG0/output/'\n",
    "fid1='to1_out.nc'\n",
    "fid2='to2_out.nc'\n",
    "fid3='to3_out.nc'\n",
    "fid4='to4_out.nc'\n",
    "fid5='to5_out.nc'\n",
    "fid6='to6_out.nc'\n",
    "fid7='to7_out.nc'\n",
    "fid8='to8_out.nc'\n",
    "\n",
    "# Open file and get data\n",
    "fp=fpath+fid1\n",
    "nclu=NetCDFFile(fp,'r')\n",
    "to1 = nclu.variables['to1'][:]\n",
    "soc1 = nclu.variables['soilc_pool1'][:]\n",
    "nclu.close()\n",
    "\n",
    "fp=fpath+fid2\n",
    "nclu=NetCDFFile(fp,'r')\n",
    "to2 = nclu.variables['to2'][:]\n",
    "soc2 = nclu.variables['soilc_pool2'][:]\n",
    "nclu.close()\n",
    "\n",
    "fp=fpath+fid3\n",
    "nclu=NetCDFFile(fp,'r')\n",
    "to3 = nclu.variables['to3'][:]\n",
    "soc3 = nclu.variables['soilc_pool3'][:]\n",
    "nclu.close()\n",
    "\n",
    "fp=fpath+fid4\n",
    "nclu=NetCDFFile(fp,'r')\n",
    "to4 = nclu.variables['to4'][:]\n",
    "soc4 = nclu.variables['soilc_pool4'][:]\n",
    "nclu.close()\n",
    "\n",
    "fp=fpath+fid5\n",
    "nclu=NetCDFFile(fp,'r')\n",
    "to5 = nclu.variables['to5'][:]\n",
    "soc5 = nclu.variables['soilc_pool5'][:]\n",
    "nclu.close()\n",
    "\n",
    "fp=fpath+fid6\n",
    "nclu=NetCDFFile(fp,'r')\n",
    "to6 = nclu.variables['to6'][:]\n",
    "soc6 = nclu.variables['soilc_pool6'][:]\n",
    "nclu.close()\n",
    "\n",
    "fp=fpath+fid7\n",
    "nclu=NetCDFFile(fp,'r')\n",
    "to7 = nclu.variables['to7'][:]\n",
    "soc7 = nclu.variables['soilc_pool7'][:]\n",
    "nclu.close()\n",
    "\n",
    "fp=fpath+fid8\n",
    "nclu=NetCDFFile(fp,'r')\n",
    "to8 = nclu.variables['to8'][:]\n",
    "soc8 = nclu.variables['soilc_pool8'][:]\n",
    "nclu.close()\n",
    "\n",
    "# Calculate the global mean\n",
    "to1[to1>10000] = np.float('nan')\n",
    "to2[to2>10000] = np.float('nan')\n",
    "to3[to3>10000] = np.float('nan')\n",
    "to4[to4>10000] = np.float('nan')\n",
    "to5[to5>10000] = np.float('nan')\n",
    "to6[to6>10000] = np.float('nan')\n",
    "to7[to7>10000] = np.float('nan')\n",
    "to8[to8>10000] = np.float('nan')\n",
    "to1[to1<=0] = np.float('nan')\n",
    "to2[to2<=0] = np.float('nan')\n",
    "to3[to3<=0] = np.float('nan')\n",
    "to4[to4<=0] = np.float('nan')\n",
    "to5[to5<=0] = np.float('nan')\n",
    "to6[to6<=0] = np.float('nan')\n",
    "to7[to7<=0] = np.float('nan')\n",
    "to8[to8<=0] = np.float('nan')\n",
    "\n",
    "# Global area\n",
    "# Area of each grid\n",
    "grid_area = np.zeros((nlon, nlat))\n",
    "EARTH_AREA = 5.096e14\n",
    "lat = np.arange(-89.75, 90.25, 0.5)\n",
    "res = 0.5\n",
    "\n",
    "for i in np.arange(0,nlat):\n",
    "    for j in np.arange(0,nlon):\n",
    "        grid_area[j,i] = (EARTH_AREA/2)*abs(np.sin((lat[i] - res/2)*math.pi/180) -\n",
    "                np.sin((lat[i] + res/2)*math.pi/180))/(360/res)\n",
    "grid_area_t = np.transpose(grid_area)\n",
    "\n",
    "# Multiply\n",
    "grid_area_c = copy.deepcopy(grid_area_t)\n",
    "grid_area_c[np.isnan(to1)] = np.float('nan')\n",
    "soc1[np.isnan(to1)] = np.float('nan')\n",
    "grid_a = np.nansum(grid_area_c*soc1)\n",
    "to1_a = np.nansum(grid_area_c*soc1*to1)\n",
    "to1_globe = to1_a/grid_a\n",
    "\n",
    "grid_area_c = copy.deepcopy(grid_area_t)\n",
    "grid_area_c[np.isnan(to2)] = np.float('nan')\n",
    "soc2[np.isnan(to2)] = np.float('nan')\n",
    "grid_a = np.nansum(grid_area_c*soc2)\n",
    "to2_a = np.nansum(grid_area_c*soc2*to2)\n",
    "to2_globe = to2_a/grid_a\n",
    "\n",
    "grid_area_c = copy.deepcopy(grid_area_t)\n",
    "grid_area_c[np.isnan(to3)] = np.float('nan')\n",
    "soc3[np.isnan(to3)] = np.float('nan')\n",
    "grid_a = np.nansum(grid_area_c*soc3)\n",
    "to3_a = np.nansum(grid_area_c*soc3*to3)\n",
    "to3_globe = to3_a/grid_a\n",
    "\n",
    "grid_area_c = copy.deepcopy(grid_area_t)\n",
    "grid_area_c[np.isnan(to4)] = np.float('nan')\n",
    "soc4[np.isnan(to4)] = np.float('nan')\n",
    "grid_a = np.nansum(grid_area_c*soc4)\n",
    "to4_a = np.nansum(grid_area_c*soc4*to4)\n",
    "to4_globe = to4_a/grid_a\n",
    "\n",
    "grid_area_c = copy.deepcopy(grid_area_t)\n",
    "grid_area_c[np.isnan(to5)] = np.float('nan')\n",
    "soc5[np.isnan(to5)] = np.float('nan')\n",
    "grid_a = np.nansum(grid_area_c*soc5)\n",
    "to5_a = np.nansum(grid_area_c*soc5*to5)\n",
    "to5_globe = to5_a/grid_a\n",
    "\n",
    "grid_area_c = copy.deepcopy(grid_area_t)\n",
    "grid_area_c[np.isnan(to6)] = np.float('nan')\n",
    "soc6[np.isnan(to6)] = np.float('nan')\n",
    "grid_a = np.nansum(grid_area_c*soc6)\n",
    "to6_a = np.nansum(grid_area_c*soc6*to6)\n",
    "to6_globe = to6_a/grid_a\n",
    "\n",
    "grid_area_c = copy.deepcopy(grid_area_t)\n",
    "grid_area_c[np.isnan(to7)] = np.float('nan')\n",
    "soc7[np.isnan(to7)] = np.float('nan')\n",
    "grid_a = np.nansum(grid_area_c*soc7)\n",
    "to7_a = np.nansum(grid_area_c*soc7*to7)\n",
    "to7_globe = to7_a/grid_a\n",
    "\n",
    "grid_area_c = copy.deepcopy(grid_area_t)\n",
    "grid_area_c[np.isnan(to8)] = np.float('nan')\n",
    "soc8[np.isnan(to8)] = np.float('nan')\n",
    "grid_a = np.nansum(grid_area_c*soc8)\n",
    "to8_a = np.nansum(grid_area_c*soc8*to8)\n",
    "to8_globe = to8_a/grid_a"
   ]
  },
  {
   "cell_type": "code",
   "execution_count": 53,
   "metadata": {},
   "outputs": [
    {
     "data": {
      "text/plain": [
       "4.6512885622763411"
      ]
     },
     "execution_count": 53,
     "metadata": {},
     "output_type": "execute_result"
    }
   ],
   "source": [
    "to7_globe"
   ]
  }
 ],
 "metadata": {
  "kernelspec": {
   "display_name": "Python [conda env:root] *",
   "language": "python",
   "name": "conda-root-py"
  },
  "language_info": {
   "codemirror_mode": {
    "name": "ipython",
    "version": 3
   },
   "file_extension": ".py",
   "mimetype": "text/x-python",
   "name": "python",
   "nbconvert_exporter": "python",
   "pygments_lexer": "ipython3",
   "version": "3.7.3"
  }
 },
 "nbformat": 4,
 "nbformat_minor": 4
}
