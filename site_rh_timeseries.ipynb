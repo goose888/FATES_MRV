{
 "cells": [
  {
   "cell_type": "code",
   "execution_count": 1,
   "metadata": {},
   "outputs": [],
   "source": [
    "# Examine SBGC results\n",
    "#from netCDF4 import Dataset as NetCDFFile\n",
    "import math\n",
    "import numpy as np\n",
    "import pandas as pd\n",
    "import isamcalc_lib as isam\n",
    "import matplotlib.pyplot as plt\n",
    "from matplotlib import colors\n",
    "import numpy.ma as ma\n",
    "from scipy.interpolate import griddata\n",
    "import copy\n",
    "import matplotlib.lines as mlines\n",
    "import matplotlib.transforms as mtransforms\n",
    "from sklearn.linear_model import LinearRegression\n",
    "from sklearn.metrics import mean_squared_error, r2_score"
   ]
  },
  {
   "cell_type": "code",
   "execution_count": 12,
   "metadata": {},
   "outputs": [
    {
     "data": {
      "text/plain": [
       "[<matplotlib.lines.Line2D at 0x2aaadc6266d0>]"
      ]
     },
     "execution_count": 12,
     "metadata": {},
     "output_type": "execute_result"
    },
    {
     "data": {
      "image/png": "[encoded data removed]",
      "text/plain": [
       "<Figure size 432x288 with 1 Axes>"
      ]
     },
     "metadata": {
      "needs_background": "light"
     },
     "output_type": "display_data"
    }
   ],
   "source": [
    "# Read in the obs of study #2534\n",
    "lat = 56.46\n",
    "lon = -99.97\n",
    "# Measured year is 2001 - 2002\n",
    "obsx = np.array([133, 146, 170, 199, 204, 205, 206, 214, 231, 233, 235, 244, 242, 254])\n",
    "# 17% contribution from root Ra\n",
    "# 1.0368 is the transfer factor from umol C m-2 s-1 to gC m-2 day-1\n",
    "obsy = 0.83 * 1.0368 * np.array([1.12, 1.54, 2.11, 2.48, 2.19, 1.81, 2.82, 1.83, 1.61, 1.38, 1.53, 1.61, 1.81, 1.81])\n",
    "\n",
    "# Read in the model simulation\n",
    "path='/global/cscratch1/sd/sshu3/SBGC/site/npp_eval/'\n",
    "site='boreal_2534/'\n",
    "fname='resp.txt'\n",
    "obs_fname=path+site+fname\n",
    "data = pd.read_csv(obs_fname,delim_whitespace=True,header=None)\n",
    "rh_prim = data.values\n",
    "\n",
    "rh_daily = np.zeros(((365*155),10))\n",
    "for i in np.arange(0,np.shape(rh_prim)[0]):\n",
    "    yr = i // 52\n",
    "    if(i % 52 == 0):\n",
    "        rh_daily[(i*7+yr):(i*7+yr+8),:] = 1000.*rh_prim[i,:]/7.\n",
    "    else:\n",
    "        rh_daily[(i*7+yr):(i*7+yr+7),:] = 1000.*rh_prim[i,:]/7.\n",
    "\n",
    "rh1m = np.zeros((np.shape(rh_daily)[0]))\n",
    "\n",
    "# Calcualte the 1-m mean Respiration\n",
    "for i in np.arange(0,np.shape(rh_daily)[0]):\n",
    "    rh1m[i] = isam.agg_1m_soil(rh_daily[i,0:8])\n",
    "\n",
    "# Calculate decadal mean of Rh for checking\n",
    "rh_decade = np.zeros((15))\n",
    "\n",
    "for t in np.arange(0,15):\n",
    "    rh_decade[t] = np.mean(rh1m[(t*3650):(t*3650+3650)])\n",
    "  \n",
    "modx = np.arange(0,365)\n",
    "mody = rh1m[(140*365):(140*365+365)]\n",
    "obs_2534 = obsy\n",
    "mod_2534 = mody[obsx]\n",
    "plt.xlim([120, 300])\n",
    "plt.scatter(obsx, obsy)\n",
    "plt.plot(modx, mody)"
   ]
  },
  {
   "cell_type": "code",
   "execution_count": 14,
   "metadata": {},
   "outputs": [
    {
     "data": {
      "text/plain": [
       "[<matplotlib.lines.Line2D at 0x2aaadc71e950>]"
      ]
     },
     "execution_count": 14,
     "metadata": {},
     "output_type": "execute_result"
    },
    {
     "data": {
      "image/png": "[encoded data removed]",
      "text/plain": [
       "<Figure size 432x288 with 1 Axes>"
      ]
     },
     "metadata": {
      "needs_background": "light"
     },
     "output_type": "display_data"
    }
   ],
   "source": [
    "# Read in the obs of study #2396\n",
    "lat = 53.99\n",
    "lon = -105.12\n",
    "# The data is selected from the BSFM (closed-canopy balck spruce with feather moss) community only\n",
    "# since this site is more similar to the mature forest.\n",
    "# Measured year is 1998 - 1999\n",
    "obsx = np.array([196, 204, 209, 271, 278, 354])\n",
    "obsy = 0.83 * 1.0368 * np.array([4.03, 3.97, 3.08, 2.84, 2.58, 0.38])\n",
    "\n",
    "# Read in the model simulation\n",
    "path='/global/cscratch1/sd/sshu3/SBGC/site/npp_eval/'\n",
    "site='boreal_2396/'\n",
    "fname='resp.txt'\n",
    "obs_fname=path+site+fname\n",
    "data = pd.read_csv(obs_fname,delim_whitespace=True,header=None)\n",
    "rh_prim = data.values\n",
    "\n",
    "rh_daily = np.zeros(((365*155),10))\n",
    "for i in np.arange(0,np.shape(rh_prim)[0]):\n",
    "    yr = i // 52\n",
    "    if(i % 52 == 0):\n",
    "        rh_daily[(i*7+yr):(i*7+yr+8),:] = 1000.*rh_prim[i,:]/7.\n",
    "    else:\n",
    "        rh_daily[(i*7+yr):(i*7+yr+7),:] = 1000.*rh_prim[i,:]/7.\n",
    "\n",
    "rh1m = np.zeros((np.shape(rh_daily)[0]))\n",
    "\n",
    "# Calcualte the 1-m mean Respiration\n",
    "for i in np.arange(0,np.shape(rh_daily)[0]):\n",
    "    rh1m[i] = isam.agg_1m_soil(rh_daily[i,0:8])\n",
    "\n",
    "# Calculate decadal mean of Rh for checking\n",
    "rh_decade = np.zeros((15))\n",
    "\n",
    "for t in np.arange(0,15):\n",
    "    rh_decade[t] = np.mean(rh1m[(t*3650):(t*3650+3650)])\n",
    "\n",
    "modx = np.arange(0,365)\n",
    "mody = rh1m[(138*365):(138*365+365)]\n",
    "obs_2396 = obsy\n",
    "mod_2396 = mody[obsx]\n",
    "plt.xlim([120, 300])\n",
    "plt.scatter(obsx, obsy)\n",
    "plt.plot(modx, mody)"
   ]
  },
  {
   "cell_type": "code",
   "execution_count": 15,
   "metadata": {},
   "outputs": [
    {
     "data": {
      "text/plain": [
       "[<matplotlib.lines.Line2D at 0x2aaadc7b5990>]"
      ]
     },
     "execution_count": 15,
     "metadata": {},
     "output_type": "execute_result"
    },
    {
     "data": {
      "image/png": "[encoded data removed]",
      "text/plain": [
       "<Figure size 432x288 with 1 Axes>"
      ]
     },
     "metadata": {
      "needs_background": "light"
     },
     "output_type": "display_data"
    }
   ],
   "source": [
    "# Read in the obs of study #1382\n",
    "# Boreal deciduous\n",
    "lat = 53.63\n",
    "lon = -106.2\n",
    "# Measured year is 1994\n",
    "\n",
    "obsx = np.array([106, 112, 114, 116, 120, 139, 143, 146, 147, 150, 152, 156, 158, 161, 162, 170, 173, 174, 180, 182, 187, 189, 194, 196, 197, 201, \\\n",
    "202, 203, 204, 205, 209, 211, 213, 217, 220, 222, 225, 227, 230, 231, 233, 238, 240, 243, 244, 245, 248, 249, 251, 252, 254, 258])\n",
    "# 60% contribution from root Ra\n",
    "# 23.56364 is the transfer factor from mg CO2 m-2 s-1 to gC m-2 day-1\n",
    "obsy = 0.4 * 23.56364 * np.array([0.037,0.061, 0.034, 0.028, 0.046, 0.092, 0.107, 0.104, 0.098, 0.098, 0.098, 0.147, 0.115, 0.074, 0.074, 0.079, 0.167, 0.132, 0.144, 0.135, \\\n",
    "0.126, 0.126, 0.278, 0.202, 0.228, 0.402, 0.205, 0.349, 0.301, 0.19, 0.292, 0.351, 0.375, 0.245, 0.283, 0.26, 0.248, 0.242, 0.327, 0.242, \\\n",
    "0.215, 0.28, 0.224, 0.288, 0.241, 0.209, 0.159, 0.147, 0.267, 0.232, 0.214, 0.155])\n",
    "\n",
    "# Read in the model simulation\n",
    "path='/global/cscratch1/sd/sshu3/SBGC/site/npp_eval/'\n",
    "site='boreal_decid_1382/'\n",
    "fname='resp.txt'\n",
    "obs_fname=path+site+fname\n",
    "data = pd.read_csv(obs_fname,delim_whitespace=True,header=None)\n",
    "rh_prim = data.values\n",
    "\n",
    "rh_daily = np.zeros(((365*155),10))\n",
    "for i in np.arange(0,np.shape(rh_prim)[0]):\n",
    "    yr = i // 52\n",
    "    if(i % 52 == 0):\n",
    "        rh_daily[(i*7+yr):(i*7+yr+8),:] = 1000.*rh_prim[i,:]/7.\n",
    "    else:\n",
    "        rh_daily[(i*7+yr):(i*7+yr+7),:] = 1000.*rh_prim[i,:]/7.\n",
    "\n",
    "rh1m = np.zeros((np.shape(rh_daily)[0]))\n",
    "\n",
    "# Calcualte the 1-m mean Respiration\n",
    "for i in np.arange(0,np.shape(rh_daily)[0]):\n",
    "    rh1m[i] = isam.agg_1m_soil(rh_daily[i,0:8])\n",
    "\n",
    "# Calculate decadal mean of Rh for checking\n",
    "rh_decade = np.zeros((15))\n",
    "\n",
    "for t in np.arange(0,15):\n",
    "    rh_decade[t] = np.mean(rh1m[(t*3650):(t*3650+3650)])\n",
    "\n",
    "modx = np.arange(0,365)\n",
    "mody = rh1m[(133*365):(133*365+365)]\n",
    "obs_1382 = obsy\n",
    "mod_1382 = mody[obsx]\n",
    "plt.xlim([120, 300])\n",
    "plt.scatter(obsx, obsy)\n",
    "plt.plot(modx, mody)"
   ]
  },
  {
   "cell_type": "code",
   "execution_count": 36,
   "metadata": {},
   "outputs": [
    {
     "data": {
      "text/plain": [
       "411.995"
      ]
     },
     "execution_count": 36,
     "metadata": {},
     "output_type": "execute_result"
    }
   ],
   "source": [
    "np.nansum(mody)"
   ]
  },
  {
   "cell_type": "code",
   "execution_count": null,
   "metadata": {},
   "outputs": [],
   "source": []
  },
  {
   "cell_type": "code",
   "execution_count": 16,
   "metadata": {},
   "outputs": [
    {
     "data": {
      "text/plain": [
       "[<matplotlib.lines.Line2D at 0x2aaadc848110>]"
      ]
     },
     "execution_count": 16,
     "metadata": {},
     "output_type": "execute_result"
    },
    {
     "data": {
      "image/png": "[encoded data removed]",
      "text/plain": [
       "<Figure size 432x288 with 1 Axes>"
      ]
     },
     "metadata": {
      "needs_background": "light"
     },
     "output_type": "display_data"
    }
   ],
   "source": [
    "# Read in the obs of study #4604\n",
    "lat = 61.78\n",
    "lon = 24.3\n",
    "# The data is selected from the Forest community only\n",
    "# This paper also has all fluxes for the mire (wetland) which maybe helpful for the future study\n",
    "# Measured year is 2005\n",
    "obsx = np.array([28, 62, 100, 128, 136, 164, 183, 203, 214, 227, 245, 259, 266, 285, 304, 314])\n",
    "# 30% contribution from root Ra (since no data then we assume 30%)\n",
    "# 6.545455 is the transfer factor from g CO2 m-2 h-1 to gC m-2 day-1\n",
    "obsy = 0.7 * 6.545455 * np.array([0.041, 0.01, 0.072, 0.141, 0.257, 0.38, 0.491, 0.532, 0.576, 0.511, 0.473, 0.406, 0.318, 0.266, 0.276, 0.235])\n",
    "\n",
    "# Read in the model simulation\n",
    "path='/global/cscratch1/sd/sshu3/SBGC/site/npp_eval/'\n",
    "site='boreal_4604/'\n",
    "fname='resp.txt'\n",
    "obs_fname=path+site+fname\n",
    "data = pd.read_csv(obs_fname,delim_whitespace=True,header=None)\n",
    "rh_prim = data.values\n",
    "\n",
    "rh_daily = np.zeros(((365*155),10))\n",
    "for i in np.arange(0,np.shape(rh_prim)[0]):\n",
    "    yr = i // 52\n",
    "    if(i % 52 == 0):\n",
    "        rh_daily[(i*7+yr):(i*7+yr+8),:] = 1000.*rh_prim[i,:]/7.\n",
    "    else:\n",
    "        rh_daily[(i*7+yr):(i*7+yr+7),:] = 1000.*rh_prim[i,:]/7.\n",
    "\n",
    "rh1m = np.zeros((np.shape(rh_daily)[0]))\n",
    "\n",
    "# Calcualte the 1-m mean Respiration\n",
    "for i in np.arange(0,np.shape(rh_daily)[0]):\n",
    "    rh1m[i] = isam.agg_1m_soil(rh_daily[i,0:8])\n",
    "\n",
    "# Calculate decadal mean of Rh for checking\n",
    "rh_decade = np.zeros((15))\n",
    "\n",
    "for t in np.arange(0,15):\n",
    "    rh_decade[t] = np.mean(rh1m[(t*3650):(t*3650+3650)])\n",
    "\n",
    "modx = np.arange(0,365)\n",
    "mody = rh1m[(144*365):(144*365+365)]\n",
    "obs_4604 = obsy\n",
    "mod_4604 = mody[obsx]\n",
    "plt.xlim([120, 300])\n",
    "plt.scatter(obsx, obsy)\n",
    "plt.plot(modx, mody)"
   ]
  },
  {
   "cell_type": "code",
   "execution_count": 17,
   "metadata": {},
   "outputs": [
    {
     "data": {
      "text/plain": [
       "[<matplotlib.lines.Line2D at 0x2aaadc8bca90>]"
      ]
     },
     "execution_count": 17,
     "metadata": {},
     "output_type": "execute_result"
    },
    {
     "data": {
      "image/png": "[encoded data removed]",
      "text/plain": [
       "<Figure size 432x288 with 1 Axes>"
      ]
     },
     "metadata": {
      "needs_background": "light"
     },
     "output_type": "display_data"
    }
   ],
   "source": [
    "# Read in the obs of study #4166\n",
    "lat = 62.87\n",
    "lon = 30.82\n",
    "# Measured year is 2001 - 2004, here only used the data for year 2001. Other data can be obtained later\n",
    "obsx = np.array([106, 117, 119, 122, 130, 137, 142, 148, 153, 158, 163, 171, 177, 180, 194, 196, 198, 201, 204, 209, 213, 218, 223, 226, 230, 233, \\\n",
    "239, 242, 247, 252, 257, 260, 262, 269, 278, 284, 292, 294])\n",
    "# 35% contribution from root Ra\n",
    "# 1.0368 is the transfer factor from umol CO2 m-2 s-1 to gC m-2 day-1\n",
    "obsy = 0.65 * 1.0368 * np.array([0.289, 0.557, 0.806, 0.959, 0.959, 0.825, 0.729, 0.979, 1.343, 1.688, 1.783, 2.109, 2.377, 2.837, 3.891, 4.696, 4.773, \\\n",
    "4.466, 3.47, 3.278, 2.339, 3.623, 4.313, 4.485, 3.144, 2.78, 1.822, 1.477, 2.282, 1.994, 1.649, 1.381, 1.094, 0.9, \\\n",
    "0.73, 0.86, 0.653, 0.442])\n",
    "\n",
    "# Read in the model simulation\n",
    "path='/global/cscratch1/sd/sshu3/SBGC/site/npp_eval/'\n",
    "site='boreal_4166/'\n",
    "fname='resp.txt'\n",
    "obs_fname=path+site+fname\n",
    "data = pd.read_csv(obs_fname,delim_whitespace=True,header=None)\n",
    "rh_prim = data.values\n",
    "\n",
    "rh_daily = np.zeros(((365*155),10))\n",
    "for i in np.arange(0,np.shape(rh_prim)[0]):\n",
    "    yr = i // 52\n",
    "    if(i % 52 == 0):\n",
    "        rh_daily[(i*7+yr):(i*7+yr+8),:] = 1000.*rh_prim[i,:]/7.\n",
    "    else:\n",
    "        rh_daily[(i*7+yr):(i*7+yr+7),:] = 1000.*rh_prim[i,:]/7.\n",
    "\n",
    "rh1m = np.zeros((np.shape(rh_daily)[0]))\n",
    "\n",
    "# Calcualte the 1-m mean Respiration\n",
    "for i in np.arange(0,np.shape(rh_daily)[0]):\n",
    "    rh1m[i] = isam.agg_1m_soil(rh_daily[i,0:8])\n",
    "\n",
    "# Calculate decadal mean of Rh for checking\n",
    "rh_decade = np.zeros((15))\n",
    "\n",
    "for t in np.arange(0,15):\n",
    "    rh_decade[t] = np.mean(rh1m[(t*3650):(t*3650+3650)])\n",
    "\n",
    "modx = np.arange(0,365)\n",
    "mody = rh1m[(140*365):(140*365+365)]\n",
    "obs_4166 = obsy\n",
    "mod_4166 = mody[obsx]\n",
    "plt.xlim([120, 300])\n",
    "plt.scatter(obsx, obsy)\n",
    "plt.plot(modx, mody)"
   ]
  },
  {
   "cell_type": "code",
   "execution_count": 18,
   "metadata": {},
   "outputs": [
    {
     "data": {
      "text/plain": [
       "[<matplotlib.lines.Line2D at 0x2aaadc940410>]"
      ]
     },
     "execution_count": 18,
     "metadata": {},
     "output_type": "execute_result"
    },
    {
     "data": {
      "image/png": "[encoded data removed]",
      "text/plain": [
       "<Figure size 432x288 with 1 Axes>"
      ]
     },
     "metadata": {
      "needs_background": "light"
     },
     "output_type": "display_data"
    }
   ],
   "source": [
    "# Read in the obs of study #5305\n",
    "lat = 46.77\n",
    "lon = 9.87\n",
    "# Measured year is 2007\n",
    "obsx = np.array([36, 54, 88, 110, 117, 131, 135, 139, 147, 161, 168, 172, 180, 193, 199, 215, 226, 244])\n",
    "# 30% contribution from root Ra (since no data then we assume 30%)\n",
    "# 0.024 is the transfer factor from mg C m-2 h-1 to gC m-2 day-1\n",
    "obsy = 0.7 * 0.024 * np.array([6.27, 11.7, 6.46, 26.19, 53, 53.1, 76.28, 69.15, 95.97, 84.41, 53.19, 46.06, 137.16, 144.35, 119.37, 99.79, 81.97, 43.65])\n",
    "\n",
    "# Read in the model simulation\n",
    "path='/global/cscratch1/sd/sshu3/SBGC/site/npp_eval/'\n",
    "site='boreal_5305/'\n",
    "fname='resp.txt'\n",
    "obs_fname=path+site+fname\n",
    "data = pd.read_csv(obs_fname,delim_whitespace=True,header=None)\n",
    "rh_prim = data.values\n",
    "\n",
    "rh_daily = np.zeros(((365*155),10))\n",
    "for i in np.arange(0,np.shape(rh_prim)[0]):\n",
    "    yr = i // 52\n",
    "    if(i % 52 == 0):\n",
    "        rh_daily[(i*7+yr):(i*7+yr+8),:] = 1000.*rh_prim[i,:]/7.\n",
    "    else:\n",
    "        rh_daily[(i*7+yr):(i*7+yr+7),:] = 1000.*rh_prim[i,:]/7.\n",
    "\n",
    "rh1m = np.zeros((np.shape(rh_daily)[0]))\n",
    "\n",
    "# Calcualte the 1-m mean Respiration\n",
    "for i in np.arange(0,np.shape(rh_daily)[0]):\n",
    "    rh1m[i] = isam.agg_1m_soil(rh_daily[i,0:8])\n",
    "\n",
    "# Calculate decadal mean of Rh for checking\n",
    "rh_decade = np.zeros((15))\n",
    "\n",
    "for t in np.arange(0,15):\n",
    "    rh_decade[t] = np.mean(rh1m[(t*3650):(t*3650+3650)])\n",
    "\n",
    "modx = np.arange(0,365)\n",
    "mody = rh1m[(146*365):(146*365+365)]\n",
    "obs_5305 = obsy\n",
    "mod_5305 = mody[obsx]\n",
    "plt.xlim([120, 300])\n",
    "plt.scatter(obsx, obsy)\n",
    "plt.plot(modx,mody)"
   ]
  },
  {
   "cell_type": "code",
   "execution_count": 19,
   "metadata": {},
   "outputs": [
    {
     "data": {
      "text/plain": [
       "[<matplotlib.lines.Line2D at 0x2aaadc9b5e50>]"
      ]
     },
     "execution_count": 19,
     "metadata": {},
     "output_type": "execute_result"
    },
    {
     "data": {
      "image/png": "[encoded data removed]",
      "text/plain": [
       "<Figure size 432x288 with 1 Axes>"
      ]
     },
     "metadata": {
      "needs_background": "light"
     },
     "output_type": "display_data"
    }
   ],
   "source": [
    "# Read in the obs of study #5391\n",
    "# Tundra in Sweden\n",
    "lat = 68.333\n",
    "lon = 18.5\n",
    "\n",
    "# Only the sample from sweden is used here, another from Svalbard is at the northernmost on small island so not sure if ISAM\n",
    "# has output for that grid.\n",
    "# Measured year is 2007 - 2008\n",
    "obsx = np.array([27, 64, 92, 137, 159, 178, 192, 234, 236, 245])\n",
    "\n",
    "# Guessed 70% contribution from root Ra for tundra (since no data)\n",
    "# 0.006545455 is the transfer factor from mg CO2 m-2 h-1 to gC m-2 day-1\n",
    "obsy = 0.3 * 0.006545455 * np.array([161.65, 33.00, 22.07, 41.09, 560.68, 614.31, 732.67, 811.49, 733.97, 540.54])\n",
    "\n",
    "# Read in the model simulation\n",
    "path='/global/cscratch1/sd/sshu3/SBGC/site/npp_eval/'\n",
    "site='tundra_5391/'\n",
    "fname='resp.txt'\n",
    "obs_fname=path+site+fname\n",
    "data = pd.read_csv(obs_fname,delim_whitespace=True,header=None)\n",
    "rh_prim = data.values\n",
    "\n",
    "rh_daily = np.zeros(((365*155),10))\n",
    "for i in np.arange(0,np.shape(rh_prim)[0]):\n",
    "    yr = i // 52\n",
    "    if(i % 52 == 0):\n",
    "        rh_daily[(i*7+yr):(i*7+yr+8),:] = 1000.*rh_prim[i,:]/7.\n",
    "    else:\n",
    "        rh_daily[(i*7+yr):(i*7+yr+7),:] = 1000.*rh_prim[i,:]/7.\n",
    "\n",
    "rh1m = np.zeros((np.shape(rh_daily)[0]))\n",
    "\n",
    "# Calcualte the 1-m mean Respiration\n",
    "for i in np.arange(0,np.shape(rh_daily)[0]):\n",
    "    rh1m[i] = isam.agg_1m_soil(rh_daily[i,0:8])\n",
    "\n",
    "# Calculate decadal mean of Rh for checking\n",
    "rh_decade = np.zeros((15))\n",
    "\n",
    "for t in np.arange(0,15):\n",
    "    rh_decade[t] = np.mean(rh1m[(t*3650):(t*3650+3650)])\n",
    "\n",
    "modx = np.arange(0,365)\n",
    "mody = rh1m[(146*365):(146*365+365)]\n",
    "obs_5391 = obsy\n",
    "mod_5391 = mody[obsx]\n",
    "plt.xlim([120, 300])\n",
    "plt.scatter(obsx, obsy)\n",
    "plt.plot(modx, mody)"
   ]
  },
  {
   "cell_type": "code",
   "execution_count": 9,
   "metadata": {},
   "outputs": [
    {
     "data": {
      "text/plain": [
       "223.317"
      ]
     },
     "execution_count": 9,
     "metadata": {},
     "output_type": "execute_result"
    }
   ],
   "source": [
    "np.sum(mody)"
   ]
  },
  {
   "cell_type": "code",
   "execution_count": 20,
   "metadata": {},
   "outputs": [
    {
     "data": {
      "text/plain": [
       "[<matplotlib.lines.Line2D at 0x2aaadca30b50>]"
      ]
     },
     "execution_count": 20,
     "metadata": {},
     "output_type": "execute_result"
    },
    {
     "data": {
      "image/png": "[encoded data removed]",
      "text/plain": [
       "<Figure size 432x288 with 1 Axes>"
      ]
     },
     "metadata": {
      "needs_background": "light"
     },
     "output_type": "display_data"
    }
   ],
   "source": [
    "# Read in the obs of study #4212\n",
    "# Grassland in Finland\n",
    "lat = 67.72\n",
    "lon = 29.6\n",
    "\n",
    "# Measured year is 2003 - 2004\n",
    "obsx = np.array([169, 170, 171, 172, 175,  178,  180])\n",
    "\n",
    "# Guessed 50% contribution from root Ra for grassland (since no data)\n",
    "# 1.0368 is the transfer factor from umol CO2 m-2 s-1 to gC m-2 day-1\n",
    "obsy = 0.5 * 1.0368 * np.array([3.24, 3.92, 3.07, 3.4, 3.13,   3.13,  3.46])\n",
    "\n",
    "# Read in the model simulation\n",
    "path='/global/cscratch1/sd/sshu3/SBGC/site/npp_eval/'\n",
    "site='grass_4212/'\n",
    "fname='resp.txt'\n",
    "obs_fname=path+site+fname\n",
    "data = pd.read_csv(obs_fname,delim_whitespace=True,header=None)\n",
    "rh_prim = data.values\n",
    "\n",
    "rh_daily = np.zeros(((365*155),10))\n",
    "for i in np.arange(0,np.shape(rh_prim)[0]):\n",
    "    yr = i // 52\n",
    "    if(i % 52 == 0):\n",
    "        rh_daily[(i*7+yr):(i*7+yr+8),:] = 1000.*rh_prim[i,:]/7.\n",
    "    else:\n",
    "        rh_daily[(i*7+yr):(i*7+yr+7),:] = 1000.*rh_prim[i,:]/7.\n",
    "\n",
    "rh1m = np.zeros((np.shape(rh_daily)[0]))\n",
    "\n",
    "# Calcualte the 1-m mean Respiration\n",
    "for i in np.arange(0,np.shape(rh_daily)[0]):\n",
    "    rh1m[i] = isam.agg_1m_soil(rh_daily[i,0:8])\n",
    "\n",
    "# Calculate decadal mean of Rh for checking\n",
    "rh_decade = np.zeros((15))\n",
    "\n",
    "for t in np.arange(0,15):\n",
    "    rh_decade[t] = np.mean(rh1m[(t*3650):(t*3650+3650)])\n",
    "\n",
    "modx = np.arange(0,365)\n",
    "mody = rh1m[(140*365):(140*365+365)]\n",
    "obs_4212 = obsy\n",
    "mod_4212 = mody[obsx]\n",
    "plt.xlim([120, 300])\n",
    "plt.scatter(obsx, obsy)\n",
    "plt.plot(modx, mody)"
   ]
  },
  {
   "cell_type": "code",
   "execution_count": 21,
   "metadata": {},
   "outputs": [
    {
     "data": {
      "text/plain": [
       "[<matplotlib.lines.Line2D at 0x2aaadcaafa50>]"
      ]
     },
     "execution_count": 21,
     "metadata": {},
     "output_type": "execute_result"
    },
    {
     "data": {
      "image/png": "[encoded data removed]",
      "text/plain": [
       "<Figure size 432x288 with 1 Axes>"
      ]
     },
     "metadata": {
      "needs_background": "light"
     },
     "output_type": "display_data"
    }
   ],
   "source": [
    "# Read in the obs of study #7198\n",
    "# Shrubland in Finland\n",
    "lat = 63.9\n",
    "lon = 23.93\n",
    "\n",
    "# Measured year is 2002 - 2004\n",
    "obsx = np.array([183, 220, 235, 246, 273, 288, 304])# 505, 512, 526, 545, 560, 573, 585, 589, 600, \\\n",
    "                 #615, 643, 857, 876, 885, 898, 912, 939, 951, 972, 980])\n",
    "\n",
    "# The sample AB1 is applied here since it to be the close to the multu-samples mean\n",
    "# 55% of Reco is Rs\n",
    "# Guessed 70% contribution from root Ra for this shrubland site since Ra is high comparing to Reco (since no data)\n",
    "# 0.024 is the transfer factor from mg C m-2 h-1 to gC m-2 day-1\n",
    "obsy = 0.55 * 0.3 * 0.024 * np.array([446.32, 377.88, 332.32, 309.51, 157.81, 119.83, 89.41])# 110.72, 216.74, 307.55, 428.63, \\\n",
    "                                #534.59, 625.4, 511.68, 443.47, 450.97, 359.96, 329.46, 191.59, 199.03, 327.76, 350.4, \\\n",
    "                                #532.12, 494.05, 456.09, 334.72, 205.88])\n",
    "\n",
    "# Read in the model simulation\n",
    "path='/global/cscratch1/sd/sshu3/SBGC/site/npp_eval/'\n",
    "site='shrub_7198/'\n",
    "fname='resp.txt'\n",
    "obs_fname=path+site+fname\n",
    "data = pd.read_csv(obs_fname,delim_whitespace=True,header=None)\n",
    "rh_prim = data.values\n",
    "\n",
    "rh_daily = np.zeros(((365*155),10))\n",
    "for i in np.arange(0,np.shape(rh_prim)[0]):\n",
    "    yr = i // 52\n",
    "    if(i % 52 == 0):\n",
    "        rh_daily[(i*7+yr):(i*7+yr+8),:] = 1000.*rh_prim[i,:]/7.\n",
    "    else:\n",
    "        rh_daily[(i*7+yr):(i*7+yr+7),:] = 1000.*rh_prim[i,:]/7.\n",
    "\n",
    "rh1m = np.zeros((np.shape(rh_daily)[0]))\n",
    "\n",
    "# Calcualte the 1-m mean Respiration\n",
    "for i in np.arange(0,np.shape(rh_daily)[0]):\n",
    "    rh1m[i] = isam.agg_1m_soil(rh_daily[i,0:8])\n",
    "\n",
    "# Calculate decadal mean of Rh for checking\n",
    "rh_decade = np.zeros((15))\n",
    "\n",
    "for t in np.arange(0,15):\n",
    "    rh_decade[t] = np.mean(rh1m[(t*3650):(t*3650+3650)])\n",
    "\n",
    "modx = np.arange(0,365)\n",
    "mody = rh1m[(140*365):(140*365+365)]\n",
    "obs_7198 = obsy\n",
    "mod_7198 = mody[obsx]\n",
    "plt.xlim([120, 300])\n",
    "plt.scatter(obsx, obsy)\n",
    "plt.plot(modx, mody)"
   ]
  },
  {
   "cell_type": "code",
   "execution_count": 30,
   "metadata": {},
   "outputs": [
    {
     "name": "stdout",
     "output_type": "stream",
     "text": [
      "('Slope:', array([[1.12842579]]))\n",
      "('Intercept:', array([0.18994542]))\n",
      "('Root mean squared error: ', 0.10520747551058733)\n",
      "('R2 score: ', 0.7579013240131807)\n"
     ]
    },
    {
     "data": {
      "text/plain": [
       "Text(0.2,1.54,'Slope: 1.13')"
      ]
     },
     "execution_count": 30,
     "metadata": {},
     "output_type": "execute_result"
    },
    {
     "data": {
      "text/plain": [
       "<Figure size 720x576 with 0 Axes>"
      ]
     },
     "metadata": {},
     "output_type": "display_data"
    },
    {
     "data": {
      "image/png": "[encoded data removed]",
      "text/plain": [
       "<Figure size 432x288 with 1 Axes>"
      ]
     },
     "metadata": {
      "needs_background": "light"
     },
     "output_type": "display_data"
    }
   ],
   "source": [
    "# Compile all data and make the scatter plot\n",
    "obs_boreal = np.concatenate((obs_2534, obs_2396, obs_4604, obs_4166))\n",
    "mod_boreal = np.concatenate((mod_2534, mod_2396, mod_4604, mod_4166))\n",
    "obs_tundra = obs_5391\n",
    "mod_tundra = mod_5391\n",
    "obs_decid = obs_1382\n",
    "mod_decid = mod_1382\n",
    "obs_grass = obs_4212\n",
    "mod_grass = mod_4212\n",
    "obs_shrub = obs_7198\n",
    "mod_shrub = mod_7198\n",
    "\n",
    "# Regression\n",
    "# prepare input data-set\n",
    "lenz = len(obs_shrub)\n",
    "x = np.zeros((lenz,1))\n",
    "y = np.zeros((lenz,1))\n",
    "x[:,0] = obs_shrub\n",
    "y[:,0] = mod_shrub\n",
    "\n",
    "# x = np.random.rand(100, 1)\n",
    "# y = 2 + 3 * x + np.random.rand(100, 1)\n",
    "\n",
    "# sckit-learn implementation\n",
    "\n",
    "# Model initialization\n",
    "regression_model = LinearRegression()\n",
    "# Fit the data(train the model)\n",
    "regression_model.fit(x, y)\n",
    "# Predict\n",
    "y_predicted = regression_model.predict(x)\n",
    "\n",
    "# model evaluation\n",
    "rmse = mean_squared_error(y, y_predicted)\n",
    "r2 = r2_score(y, y_predicted)\n",
    "\n",
    "# printing values\n",
    "print('Slope:' ,regression_model.coef_)\n",
    "print('Intercept:', regression_model.intercept_)\n",
    "print('Root mean squared error: ', rmse)\n",
    "print('R2 score: ', r2)\n",
    "\n",
    "fig = plt.figure(figsize=(10,8))\n",
    "fig, ax = plt.subplots()\n",
    "plt.xlim([0, 2])\n",
    "plt.ylim([0, 2])\n",
    "plt.scatter(obs_shrub, mod_shrub, color='yellow')\n",
    "plt.plot(x, y_predicted, color='r')\n",
    "plt.text(0.2, 1.54, 'Slope: 1.13')\n",
    "#plt.scatter(obs_decid, mod_decid, color='gold')\n",
    "#plt.scatter(obs_tundra, mod_tundra, color='brown')\n",
    "#plt.scatter(obs_grass, mod_grass, color='blue')\n",
    "#plt.scatter(obs_shrub, mod_shrub, color='red')\n",
    "# line = mlines.Line2D([0, 4.5], [0, 4.5], color='red')\n",
    "#transform = ax.transAxes\n",
    "#line.set_transform(transform)\n",
    "#ax.add_line(line)\n",
    "#plt.legend(['Regression', 'Boreal Deciduous', 'Tundra', 'Grassland', 'Shrubland'])\n",
    "#plt.savefig('Calibration_rh_res.jpg')"
   ]
  },
  {
   "cell_type": "code",
   "execution_count": 48,
   "metadata": {},
   "outputs": [
    {
     "name": "stdout",
     "output_type": "stream",
     "text": [
      "0.27802330404299685\n"
     ]
    }
   ],
   "source": [
    "#========================================================\n",
    "# Calculate R2\n",
    "#========================================================\n",
    "\n",
    "Xobs = obs_decid   # Obs CH4 flux\n",
    "Xmod = mod_decid   # CH4 flux from ISAM\n",
    "\n",
    "Xobs[np.isnan(Xmod)] = np.float('nan')\n",
    "Xmod[np.isnan(Xobs)] = np.float('nan')\n",
    "correlation = ma.corrcoef(ma.masked_invalid(Xobs), ma.masked_invalid(Xmod))[0,1]\n",
    "r2 = correlation*correlation\n",
    "print(r2)"
   ]
  },
  {
   "cell_type": "code",
   "execution_count": 53,
   "metadata": {},
   "outputs": [
    {
     "name": "stdout",
     "output_type": "stream",
     "text": [
      "-0.8202657632653063\n"
     ]
    }
   ],
   "source": [
    "#========================================================\n",
    "# Calculate ME for specific site\n",
    "#========================================================\n",
    "Xobs = obs_shrub   # Obs CH4 flux\n",
    "Xmod = mod_shrub   # CH4 flux from ISAM\n",
    "me = np.nanmean(Xobs-Xmod)\n",
    "print(me)"
   ]
  },
  {
   "cell_type": "code",
   "execution_count": null,
   "metadata": {},
   "outputs": [],
   "source": []
  },
  {
   "cell_type": "code",
   "execution_count": 46,
   "metadata": {},
   "outputs": [
    {
     "name": "stderr",
     "output_type": "stream",
     "text": [
      "/global/common/cori_cle7/software/python/2.7-anaconda-2019.07/lib/python2.7/site-packages/ipykernel_launcher.py:34: RuntimeWarning: Tried to set a label via parameter u'y' in func 'errorbar' but couldn't find such an argument.\n",
      "(This is a programming error, please report to the Matplotlib list!)\n"
     ]
    },
    {
     "ename": "TypeError",
     "evalue": "errorbar() takes at least 3 arguments (1 given)",
     "output_type": "error",
     "traceback": [
      "\u001b[0;31m\u001b[0m",
      "\u001b[0;31mTypeError\u001b[0mTraceback (most recent call last)",
      "\u001b[0;32m<ipython-input-46-ae8461c83679>\u001b[0m in \u001b[0;36m<module>\u001b[0;34m()\u001b[0m\n\u001b[1;32m     32\u001b[0m \u001b[0mplt\u001b[0m\u001b[0;34m.\u001b[0m\u001b[0mscatter\u001b[0m\u001b[0;34m(\u001b[0m\u001b[0mobs_g_mean\u001b[0m\u001b[0;34m,\u001b[0m \u001b[0mmod_g_mean\u001b[0m\u001b[0;34m,\u001b[0m \u001b[0mcolor\u001b[0m\u001b[0;34m=\u001b[0m\u001b[0;34m'blue'\u001b[0m\u001b[0;34m)\u001b[0m\u001b[0;34m\u001b[0m\u001b[0m\n\u001b[1;32m     33\u001b[0m \u001b[0mplt\u001b[0m\u001b[0;34m.\u001b[0m\u001b[0mscatter\u001b[0m\u001b[0;34m(\u001b[0m\u001b[0mobs_s_mean\u001b[0m\u001b[0;34m,\u001b[0m \u001b[0mmod_s_mean\u001b[0m\u001b[0;34m,\u001b[0m \u001b[0mcolor\u001b[0m\u001b[0;34m=\u001b[0m\u001b[0;34m'red'\u001b[0m\u001b[0;34m)\u001b[0m\u001b[0;34m\u001b[0m\u001b[0m\n\u001b[0;32m---> 34\u001b[0;31m \u001b[0max\u001b[0m\u001b[0;34m.\u001b[0m\u001b[0merrorbar\u001b[0m\u001b[0;34m(\u001b[0m\u001b[0;34m)\u001b[0m\u001b[0;34m\u001b[0m\u001b[0m\n\u001b[0m\u001b[1;32m     35\u001b[0m \u001b[0mline\u001b[0m \u001b[0;34m=\u001b[0m \u001b[0mmlines\u001b[0m\u001b[0;34m.\u001b[0m\u001b[0mLine2D\u001b[0m\u001b[0;34m(\u001b[0m\u001b[0;34m[\u001b[0m\u001b[0;36m0\u001b[0m\u001b[0;34m,\u001b[0m \u001b[0;36m4.5\u001b[0m\u001b[0;34m]\u001b[0m\u001b[0;34m,\u001b[0m \u001b[0;34m[\u001b[0m\u001b[0;36m0\u001b[0m\u001b[0;34m,\u001b[0m \u001b[0;36m4.5\u001b[0m\u001b[0;34m]\u001b[0m\u001b[0;34m,\u001b[0m \u001b[0mcolor\u001b[0m\u001b[0;34m=\u001b[0m\u001b[0;34m'red'\u001b[0m\u001b[0;34m)\u001b[0m\u001b[0;34m\u001b[0m\u001b[0m\n\u001b[1;32m     36\u001b[0m \u001b[0max\u001b[0m\u001b[0;34m.\u001b[0m\u001b[0madd_line\u001b[0m\u001b[0;34m(\u001b[0m\u001b[0mline\u001b[0m\u001b[0;34m)\u001b[0m\u001b[0;34m\u001b[0m\u001b[0m\n",
      "\u001b[0;32m/usr/common/software/python/2.7-anaconda-2019.07/lib/python2.7/site-packages/matplotlib/__init__.pyc\u001b[0m in \u001b[0;36minner\u001b[0;34m(ax, *args, **kwargs)\u001b[0m\n\u001b[1;32m   1865\u001b[0m                         \u001b[0;34m\"the Matplotlib list!)\"\u001b[0m \u001b[0;34m%\u001b[0m \u001b[0;34m(\u001b[0m\u001b[0mlabel_namer\u001b[0m\u001b[0;34m,\u001b[0m \u001b[0mfunc\u001b[0m\u001b[0;34m.\u001b[0m\u001b[0m__name__\u001b[0m\u001b[0;34m)\u001b[0m\u001b[0;34m,\u001b[0m\u001b[0;34m\u001b[0m\u001b[0m\n\u001b[1;32m   1866\u001b[0m                         RuntimeWarning, stacklevel=2)\n\u001b[0;32m-> 1867\u001b[0;31m             \u001b[0;32mreturn\u001b[0m \u001b[0mfunc\u001b[0m\u001b[0;34m(\u001b[0m\u001b[0max\u001b[0m\u001b[0;34m,\u001b[0m \u001b[0;34m*\u001b[0m\u001b[0margs\u001b[0m\u001b[0;34m,\u001b[0m \u001b[0;34m**\u001b[0m\u001b[0mkwargs\u001b[0m\u001b[0;34m)\u001b[0m\u001b[0;34m\u001b[0m\u001b[0m\n\u001b[0m\u001b[1;32m   1868\u001b[0m \u001b[0;34m\u001b[0m\u001b[0m\n\u001b[1;32m   1869\u001b[0m         inner.__doc__ = _add_data_doc(inner.__doc__,\n",
      "\u001b[0;31mTypeError\u001b[0m: errorbar() takes at least 3 arguments (1 given)"
     ]
    },
    {
     "data": {
      "image/png": "[encoded data removed]",
      "text/plain": [
       "<Figure size 432x288 with 1 Axes>"
      ]
     },
     "metadata": {
      "needs_background": "light"
     },
     "output_type": "display_data"
    }
   ],
   "source": [
    "obs_b_mean = np.mean(obs_boreal)\n",
    "obs_b_std = np.std(obs_boreal)\n",
    "mod_b_mean = np.mean(mod_boreal)\n",
    "mod_b_std = np.std(mod_boreal)\n",
    "\n",
    "obs_d_mean = np.mean(obs_decid)\n",
    "obs_d_std = np.std(obs_decid)\n",
    "mod_d_mean = np.mean(mod_decid)\n",
    "mod_d_std = np.std(mod_decid)\n",
    "\n",
    "obs_t_mean = np.mean(obs_tundra)\n",
    "obs_t_std = np.std(obs_tundra)\n",
    "mod_t_mean = np.mean(mod_tundra)\n",
    "mod_t_std = np.std(mod_tundra)\n",
    "\n",
    "obs_g_mean = np.mean(obs_grass)\n",
    "obs_g_std = np.std(obs_grass)\n",
    "mod_g_mean = np.mean(mod_grass)\n",
    "mod_g_std = np.std(mod_grass)\n",
    "\n",
    "obs_s_mean = np.mean(obs_shrub)\n",
    "obs_s_std = np.std(obs_shrub)\n",
    "mod_s_mean = np.mean(mod_shrub)\n",
    "mod_s_std = np.std(mod_shrub)\n",
    "\n",
    "fig, ax = plt.subplots()\n",
    "plt.xlim([0, 2.5])\n",
    "plt.ylim([0, 2.5])\n",
    "plt.scatter(obs_b_mean, mod_b_mean, color='green')\n",
    "plt.scatter(obs_d_mean, mod_d_mean, color='gold')\n",
    "plt.scatter(obs_t_mean, mod_t_mean, color='brown')\n",
    "plt.scatter(obs_g_mean, mod_g_mean, color='blue')\n",
    "plt.scatter(obs_s_mean, mod_s_mean, color='red')\n",
    "ax.errorbar()\n",
    "line = mlines.Line2D([0, 4.5], [0, 4.5], color='red')\n",
    "ax.add_line(line)\n",
    "plt.legend(['1:1 line', 'Boreal Evergreen', 'Boreal Deciduous', 'Tundra', 'Grassland', 'Shrubland'])\n",
    "#plt.savefig('Calibration_rh_mean.jpg')"
   ]
  },
  {
   "cell_type": "code",
   "execution_count": null,
   "metadata": {},
   "outputs": [],
   "source": []
  },
  {
   "cell_type": "code",
   "execution_count": 53,
   "metadata": {},
   "outputs": [
    {
     "data": {
      "text/plain": [
       "4.6512885622763411"
      ]
     },
     "execution_count": 53,
     "metadata": {},
     "output_type": "execute_result"
    }
   ],
   "source": []
  }
 ],
 "metadata": {
  "kernelspec": {
   "display_name": "Python [conda env:root] *",
   "language": "python",
   "name": "conda-root-py"
  },
  "language_info": {
   "codemirror_mode": {
    "name": "ipython",
    "version": 3
   },
   "file_extension": ".py",
   "mimetype": "text/x-python",
   "name": "python",
   "nbconvert_exporter": "python",
   "pygments_lexer": "ipython3",
   "version": "3.7.3"
  },
  "selected_variables": [],
  "vcdat_file_path": "",
  "vcdat_loaded_variables": [],
  "vcdat_variable_info": {}
 },
 "nbformat": 4,
 "nbformat_minor": 4
}
